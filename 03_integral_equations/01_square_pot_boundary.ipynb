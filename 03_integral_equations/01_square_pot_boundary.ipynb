{
 "cells": [
  {
   "cell_type": "markdown",
   "id": "bcc6aa70",
   "metadata": {},
   "source": [
    "# Potential due to a planet with square shape integrating over the boundary"
   ]
  },
  {
   "cell_type": "markdown",
   "id": "bd27d454",
   "metadata": {},
   "source": [
    "We want to evaluate the potential due to an\n",
    "arbitrary distribution of mass density.\n",
    "\n",
    "\n",
    "$$G(\\mathbf{r}, \\boldsymbol{\\zeta})\n",
    "   = \\frac{1}{2\\pi}\\ln|\\mathbf{r} - \\boldsymbol{\\zeta}|\\, .$$\n",
    "   \n",
    "   \n",
    "The flow is given by\n",
    "\n",
    "$$F(\\mathbf{r}, \\boldsymbol{\\xi})\n",
    "   = -\\frac{\\hat{\\mathbf{r}}}{2\\pi |\\mathbf{r} - \\boldsymbol{\\xi}|} \\, ,$$\n",
    "   \n",
    "with $\\hat{\\mathbf{r}}$ a unit vector from $\\mathbf{r}$ to\n",
    "$\\boldsymbol{\\xi}$.\n",
    "\n",
    "\n",
    "We can compute the potential/field given by a distribution of\n",
    "mass density $\\rho(\\mathbf{x})$ adding up the individual\n",
    "point contributions, that is, with an integral.\n",
    "\n",
    "$$\\phi(\\boldsymbol{\\xi})\n",
    "= \\int\\limits_\\Omega G(\\mathbf{x}, \\boldsymbol{\\xi})\n",
    "  \\rho(\\mathbf{x})\\, \\mathrm{d}\\Omega(\\mathbf{x})$$\n",
    "  \n",
    "If we consider that the domain is triangulated we can express the integral as\n",
    "\n",
    "$$\\phi(\\boldsymbol{\\xi})\n",
    "= \\sum_{e}\\int\\limits_{\\Omega_e} G(\\mathbf{x}, \\boldsymbol{\\xi})\n",
    "  \\rho(\\mathbf{x})\\, \\mathrm{d}\\Omega(\\mathbf{x})\\, .$$\n",
    "  \n",
    "Let's consider that the variation of $\\rho$ and $G$ is negligible over\n",
    "each triagle. Thus, we obtain\n",
    "\n",
    "\\begin{align}\n",
    "\\phi(\\boldsymbol{\\xi})\n",
    "&\\approx \\sum_{e} G(\\mathbf{x}_m, \\boldsymbol{\\xi}) \\rho(\\mathbf{x}_m) \\int\\limits_{\\Omega_e}\\mathrm{d}\\Omega(\\mathbf{x})\\\\\n",
    "&= \\sum_{e} G(\\mathbf{x}_m, \\boldsymbol{\\xi}) \\rho(\\mathbf{x}_m) V_e\\, ,\n",
    "\\end{align}\n",
    "\n",
    "where $\\mathbf{x}_m$ refers to the centroid of each triangle.\n",
    "\n",
    "If we consider that the density is the same over the domain, we get\n",
    "\n",
    "$$\\phi(\\boldsymbol{\\xi})\n",
    "\\approx \\rho \\sum_{e} G(\\mathbf{x}_m, \\boldsymbol{\\xi}) V_e\\, .$$\n"
   ]
  },
  {
   "cell_type": "markdown",
   "id": "2d44202a",
   "metadata": {},
   "source": [
    "## Integral over the boundary"
   ]
  },
  {
   "cell_type": "markdown",
   "id": "e8bdfdd8",
   "metadata": {},
   "source": [
    "In the case of $\\rho(\\boldsymbol{\\xi})$, that is\n",
    "\n",
    "$$\\nabla^2 \\rho(\\boldsymbol{\\xi}) = 0\\, ,$$\n",
    "\n",
    "we can rewrite the volume integral as a surface one\n",
    "invoking Green's identity.\n",
    "\n",
    "If we use the auxiliar function\n",
    "\n",
    "$$G^*(\\mathbf{x}, \\boldsymbol{\\xi}) = \\frac{r^2}{8 \\pi}[1 - \\log(r)]\\, ,$$\n",
    "\n",
    "with the property $\\nabla^2 G^*(\\mathbf{x}, \\boldsymbol{\\xi}) = G(\\mathbf{x}, \\boldsymbol{\\xi})$, we can rewrite the integral as\n",
    "\n",
    "$$\\int\\limits_VG(\\mathbf{x}, \\boldsymbol{\\xi}) f(\\mathbf{x}) dV(\\mathbf{x}) =\n",
    "\\int\\limits_S\\left(\\frac{\\partial G^*}{\\partial \\hat{n}}\\rho\n",
    "- G^*\\frac{\\partial \\rho}{\\partial \\hat{n}}\\right)dS(\\mathbf{x})\\, ,$$\n",
    "\n",
    "where\n",
    "\n",
    "$$\\frac{\\partial G^*}{\\partial \\hat{n}}\n",
    "= \\frac{\\mathbf{r}\\cdot\\hat{n}}{8\\pi}(1 - 2\\log r)\\, .$$\n",
    "\n",
    "\n",
    "In our previous example, $\\rho(\\mathbf{x}) = \\rho$, and its derivative is\n",
    "0. Thus\n",
    "\n",
    "$$\\int\\limits_V G(\\mathbf{x}, \\boldsymbol{\\xi}) f(\\mathbf{x}) dV(\\mathbf{x}) =\n",
    "\\int\\limits_S\\frac{\\partial G^*}{\\partial \\hat{n}}\\rho dS(\\mathbf{x})\\, ,$$\n",
    "\n",
    "and\n",
    "\n",
    "\\begin{align}\n",
    "\\phi(\\boldsymbol{\\xi})\n",
    "&= \\int\\limits_S\\frac{\\partial G^*}{\\partial \\hat{n}}\\rho dS(\\mathbf{x})\\\\\n",
    "&=\\rho \\sum_e \\int\\limits_S\\frac{\\partial G^*}{\\partial \\hat{n}}dS(\\mathbf{x})\\, .\n",
    "\\end{align}\n",
    "\n",
    "Assuming that the integrand is constant in the element, we get\n",
    "\\begin{align}\n",
    "\\phi(\\boldsymbol{\\xi})\n",
    "&\\approx \\rho \\sum_e \\frac{\\partial G^*(\\mathbf{x}_m, \\boldsymbol{\\xi})}{\\partial \\hat{n}_m} \\int\\limits_S dS(\\mathbf{x})\\\\\n",
    "&= \\rho \\sum_e \\frac{\\partial G^*(\\mathbf{x}_m, \\boldsymbol{\\xi})}{\\partial \\hat{n}_m}L_e\\, .\n",
    "\\end{align}"
   ]
  },
  {
   "cell_type": "code",
   "execution_count": 2,
   "id": "cdf838bf",
   "metadata": {},
   "outputs": [],
   "source": [
    "#%matplotlib widget"
   ]
  },
  {
   "cell_type": "code",
   "execution_count": 3,
   "id": "22dbb2df",
   "metadata": {},
   "outputs": [],
   "source": [
    "import numpy as np\n",
    "from numpy import log, arctan2, pi, mean\n",
    "from numpy.linalg import norm, solve\n",
    "import matplotlib.pyplot as plt\n",
    "import meshio"
   ]
  },
  {
   "cell_type": "code",
   "execution_count": 4,
   "id": "87212300-4503-43c8-8aec-d4fe0f1429ad",
   "metadata": {},
   "outputs": [],
   "source": [
    "try:\n",
    "    repo = \"https://raw.githubusercontent.com/nicoguaro/matplotlib_styles/master\"\n",
    "    style = repo + \"/styles/clean.mplstyle\"\n",
    "    plt.style.use(style)\n",
    "except:\n",
    "    pass"
   ]
  },
  {
   "cell_type": "code",
   "execution_count": 7,
   "id": "b9f39823",
   "metadata": {},
   "outputs": [
    {
     "ename": "ReadError",
     "evalue": "File files/square_bound.msh not found.",
     "output_type": "error",
     "traceback": [
      "\u001b[0;31m---------------------------------------------------------------------------\u001b[0m",
      "\u001b[0;31mReadError\u001b[0m                                 Traceback (most recent call last)",
      "Cell \u001b[0;32mIn[7], line 1\u001b[0m\n\u001b[0;32m----> 1\u001b[0m mesh \u001b[38;5;241m=\u001b[39m \u001b[43mmeshio\u001b[49m\u001b[38;5;241;43m.\u001b[39;49m\u001b[43mread\u001b[49m\u001b[43m(\u001b[49m\u001b[38;5;124;43m\"\u001b[39;49m\u001b[38;5;124;43mfiles/square_bound.msh\u001b[39;49m\u001b[38;5;124;43m\"\u001b[39;49m\u001b[43m)\u001b[49m\n\u001b[1;32m      2\u001b[0m pts \u001b[38;5;241m=\u001b[39m mesh\u001b[38;5;241m.\u001b[39mpoints\n\u001b[1;32m      3\u001b[0m lines \u001b[38;5;241m=\u001b[39m np\u001b[38;5;241m.\u001b[39mvstack([cells\u001b[38;5;241m.\u001b[39mdata \u001b[38;5;28;01mfor\u001b[39;00m cells \u001b[38;5;129;01min\u001b[39;00m mesh\u001b[38;5;241m.\u001b[39mcells[\u001b[38;5;241m0\u001b[39m:\u001b[38;5;241m4\u001b[39m]])\n",
      "File \u001b[0;32m~/miniconda3/envs/bem/lib/python3.13/site-packages/meshio/_helpers.py:71\u001b[0m, in \u001b[0;36mread\u001b[0;34m(filename, file_format)\u001b[0m\n\u001b[1;32m     68\u001b[0m \u001b[38;5;28;01mif\u001b[39;00m is_buffer(filename, \u001b[38;5;124m\"\u001b[39m\u001b[38;5;124mr\u001b[39m\u001b[38;5;124m\"\u001b[39m):\n\u001b[1;32m     69\u001b[0m     \u001b[38;5;28;01mreturn\u001b[39;00m _read_buffer(filename, file_format)\n\u001b[0;32m---> 71\u001b[0m \u001b[38;5;28;01mreturn\u001b[39;00m \u001b[43m_read_file\u001b[49m\u001b[43m(\u001b[49m\u001b[43mPath\u001b[49m\u001b[43m(\u001b[49m\u001b[43mfilename\u001b[49m\u001b[43m)\u001b[49m\u001b[43m,\u001b[49m\u001b[43m \u001b[49m\u001b[43mfile_format\u001b[49m\u001b[43m)\u001b[49m\n",
      "File \u001b[0;32m~/miniconda3/envs/bem/lib/python3.13/site-packages/meshio/_helpers.py:90\u001b[0m, in \u001b[0;36m_read_file\u001b[0;34m(path, file_format)\u001b[0m\n\u001b[1;32m     88\u001b[0m \u001b[38;5;28;01mdef\u001b[39;00m\u001b[38;5;250m \u001b[39m\u001b[38;5;21m_read_file\u001b[39m(path: Path, file_format: \u001b[38;5;28mstr\u001b[39m \u001b[38;5;241m|\u001b[39m \u001b[38;5;28;01mNone\u001b[39;00m):\n\u001b[1;32m     89\u001b[0m     \u001b[38;5;28;01mif\u001b[39;00m \u001b[38;5;129;01mnot\u001b[39;00m path\u001b[38;5;241m.\u001b[39mexists():\n\u001b[0;32m---> 90\u001b[0m         \u001b[38;5;28;01mraise\u001b[39;00m ReadError(\u001b[38;5;124mf\u001b[39m\u001b[38;5;124m\"\u001b[39m\u001b[38;5;124mFile \u001b[39m\u001b[38;5;132;01m{\u001b[39;00mpath\u001b[38;5;132;01m}\u001b[39;00m\u001b[38;5;124m not found.\u001b[39m\u001b[38;5;124m\"\u001b[39m)\n\u001b[1;32m     92\u001b[0m     \u001b[38;5;28;01mif\u001b[39;00m file_format:\n\u001b[1;32m     93\u001b[0m         possible_file_formats \u001b[38;5;241m=\u001b[39m [file_format]\n",
      "\u001b[0;31mReadError\u001b[0m: File files/square_bound.msh not found."
     ]
    }
   ],
   "source": [
    "mesh = meshio.read(\"files/square_bound.msh\")\n",
    "pts = mesh.points\n",
    "lines = np.vstack([cells.data for cells in mesh.cells[0:4]])\n",
    "tris = np.vstack([cells.data for cells in mesh.cells[4:9]])\n",
    "x, y, _ = pts.T"
   ]
  },
  {
   "cell_type": "code",
   "execution_count": 6,
   "id": "affcb471",
   "metadata": {},
   "outputs": [
    {
     "ename": "NameError",
     "evalue": "name 'x' is not defined",
     "output_type": "error",
     "traceback": [
      "\u001b[0;31m---------------------------------------------------------------------------\u001b[0m",
      "\u001b[0;31mNameError\u001b[0m                                 Traceback (most recent call last)",
      "Cell \u001b[0;32mIn[6], line 2\u001b[0m\n\u001b[1;32m      1\u001b[0m plt\u001b[38;5;241m.\u001b[39mfigure()\n\u001b[0;32m----> 2\u001b[0m plt\u001b[38;5;241m.\u001b[39mtriplot(\u001b[43mx\u001b[49m, y, tris, lw\u001b[38;5;241m=\u001b[39m\u001b[38;5;241m0.5\u001b[39m, zorder\u001b[38;5;241m=\u001b[39m\u001b[38;5;241m4\u001b[39m)\n\u001b[1;32m      3\u001b[0m plt\u001b[38;5;241m.\u001b[39maxis(\u001b[38;5;124m\"\u001b[39m\u001b[38;5;124mimage\u001b[39m\u001b[38;5;124m\"\u001b[39m);\n",
      "\u001b[0;31mNameError\u001b[0m: name 'x' is not defined"
     ]
    },
    {
     "data": {
      "text/plain": [
       "<Figure size 600x400 with 0 Axes>"
      ]
     },
     "metadata": {},
     "output_type": "display_data"
    }
   ],
   "source": [
    "plt.figure()\n",
    "plt.triplot(x, y, tris, lw=0.5, zorder=4)\n",
    "plt.axis(\"image\");"
   ]
  },
  {
   "cell_type": "code",
   "execution_count": 6,
   "id": "86f77187",
   "metadata": {},
   "outputs": [],
   "source": [
    "def length_line(coords):\n",
    "    \"\"\"Compute length and normal to a line with given coordinates\n",
    "\n",
    "    Parameters\n",
    "    ----------\n",
    "    coords : ndarray, float\n",
    "        Coordinates for the nodes of the line.\n",
    "\n",
    "    Returns\n",
    "    -------\n",
    "    area : float\n",
    "        Area of the triangle\n",
    "    \"\"\"\n",
    "    vec = coords[1, :] - coords[0, :]\n",
    "    L = np.linalg.norm(vec)\n",
    "    normal = np.array([vec[1], -vec[0]])/L\n",
    "    return L, normal"
   ]
  },
  {
   "cell_type": "code",
   "execution_count": 7,
   "id": "8ca353fa",
   "metadata": {},
   "outputs": [],
   "source": [
    "potential = np.zeros_like(x)\n",
    "field = np.zeros_like(pts[:, :2])"
   ]
  },
  {
   "cell_type": "code",
   "execution_count": 8,
   "id": "5eb00fa4",
   "metadata": {},
   "outputs": [],
   "source": [
    "for line in lines:\n",
    "    coords = pts[line]\n",
    "    L, normal = length_line(coords)\n",
    "    xm, ym, _ = np.mean(coords, axis=0)\n",
    "    for cont, pt in enumerate(pts):\n",
    "        pt_x, pt_y, _ = pt\n",
    "        vec = np.array([pt_x - xm, pt_y - ym])\n",
    "        r = np.linalg.norm(vec)\n",
    "        pot = (1 - 2*np.log(r))* vec.dot(normal)/(8*np.pi)\n",
    "        Ex = -(normal[0]*(1 - 2*np.log(r)) + vec.dot(normal)*vec[0]/r**2)/(8*np.pi)\n",
    "        Ey = -(normal[1]*(1 - 2*np.log(r)) + vec.dot(normal)*vec[1]/r**2)/(8*np.pi)\n",
    "        potential[cont] += L * pot\n",
    "        field[cont, :] += L * Ex, L * Ey"
   ]
  },
  {
   "cell_type": "code",
   "execution_count": 9,
   "id": "9a83c49a",
   "metadata": {},
   "outputs": [
    {
     "data": {
      "application/vnd.jupyter.widget-view+json": {
       "model_id": "38312a3e70c14597a1efbe9cc9f87f62",
       "version_major": 2,
       "version_minor": 0
      },
      "image/png": "[encoded data removed]",
      "text/html": [
       "\n",
       "            <div style=\"display: inline-block;\">\n",
       "                <div class=\"jupyter-widgets widget-label\" style=\"text-align: center;\">\n",
       "                    Figure\n",
       "                </div>\n",
       "                <img src='data:image/png;base64,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' width=600.0/>\n",
       "            </div>\n",
       "        "
      ],
      "text/plain": [
       "Canvas(toolbar=Toolbar(toolitems=[('Home', 'Reset original view', 'home', 'home'), ('Back', 'Back to previous …"
      ]
     },
     "metadata": {},
     "output_type": "display_data"
    }
   ],
   "source": [
    "plt.figure()\n",
    "plt.tricontourf(x, y, tris, potential, zorder=4)\n",
    "plt.colorbar()\n",
    "plt.axis(\"image\");"
   ]
  },
  {
   "cell_type": "code",
   "execution_count": 10,
   "id": "38966d14",
   "metadata": {},
   "outputs": [
    {
     "data": {
      "application/vnd.jupyter.widget-view+json": {
       "model_id": "eb6c4b9fdee244efa702ddb95739809e",
       "version_major": 2,
       "version_minor": 0
      },
      "image/png": "[encoded data removed]",
      "text/html": [
       "\n",
       "            <div style=\"display: inline-block;\">\n",
       "                <div class=\"jupyter-widgets widget-label\" style=\"text-align: center;\">\n",
       "                    Figure\n",
       "                </div>\n",
       "                <img src='data:image/png;base64,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' width=600.0/>\n",
       "            </div>\n",
       "        "
      ],
      "text/plain": [
       "Canvas(toolbar=Toolbar(toolitems=[('Home', 'Reset original view', 'home', 'home'), ('Back', 'Back to previous …"
      ]
     },
     "metadata": {},
     "output_type": "display_data"
    }
   ],
   "source": [
    "plt.figure()\n",
    "plt.tricontourf(x, y, tris, np.linalg.norm(field, axis=1),\n",
    "                12, cmap=\"magma\", zorder=4)\n",
    "plt.axis(\"image\");"
   ]
  },
  {
   "cell_type": "code",
   "execution_count": 11,
   "id": "0652550b",
   "metadata": {},
   "outputs": [],
   "source": [
    "mesh.point_data[\"potential\"] = potential"
   ]
  },
  {
   "cell_type": "code",
   "execution_count": 12,
   "id": "f5eff7a1",
   "metadata": {},
   "outputs": [
    {
     "data": {
      "text/html": [
       "<pre style=\"white-space:pre;overflow-x:auto;line-height:normal;font-family:Menlo,'DejaVu Sans Mono',consolas,'Courier New',monospace\"><span style=\"color: #808000; text-decoration-color: #808000; font-weight: bold\">Warning:</span><span style=\"color: #808000; text-decoration-color: #808000\"> VTK requires 3D vectors, but 2D vectors given. Appending </span><span style=\"color: #808000; text-decoration-color: #808000; font-weight: bold\">0</span><span style=\"color: #808000; text-decoration-color: #808000\"> third component to gmsh:dim_tags.</span>\n",
       "</pre>\n"
      ],
      "text/plain": [
       "\u001b[1;33mWarning:\u001b[0m\u001b[33m VTK requires 3D vectors, but 2D vectors given. Appending \u001b[0m\u001b[1;33m0\u001b[0m\u001b[33m third component to gmsh:dim_tags.\u001b[0m\n"
      ]
     },
     "metadata": {},
     "output_type": "display_data"
    },
    {
     "data": {
      "text/html": [
       "<pre style=\"white-space:pre;overflow-x:auto;line-height:normal;font-family:Menlo,'DejaVu Sans Mono',consolas,'Courier New',monospace\"><span style=\"font-weight: bold\">Info:</span> VTK format cannot write cell_sets. Converting them to cell_data...\n",
       "</pre>\n"
      ],
      "text/plain": [
       "\u001b[1mInfo:\u001b[0m VTK format cannot write cell_sets. Converting them to cell_data...\n"
      ]
     },
     "metadata": {},
     "output_type": "display_data"
    },
    {
     "data": {
      "text/html": [
       "<pre style=\"white-space:pre;overflow-x:auto;line-height:normal;font-family:Menlo,'DejaVu Sans Mono',consolas,'Courier New',monospace\"><span style=\"color: #808000; text-decoration-color: #808000; font-weight: bold\">Warning:</span><span style=\"color: #808000; text-decoration-color: #808000\"> </span><span style=\"color: #808000; text-decoration-color: #808000; font-weight: bold\">30</span><span style=\"color: #808000; text-decoration-color: #808000\"> cells are not part of any cell set. Using default value </span><span style=\"color: #808000; text-decoration-color: #808000; font-weight: bold\">-1</span><span style=\"color: #808000; text-decoration-color: #808000\">.</span>\n",
       "</pre>\n"
      ],
      "text/plain": [
       "\u001b[1;33mWarning:\u001b[0m\u001b[33m \u001b[0m\u001b[1;33m30\u001b[0m\u001b[33m cells are not part of any cell set. Using default value \u001b[0m\u001b[1;33m-1\u001b[0m\u001b[33m.\u001b[0m\n"
      ]
     },
     "metadata": {},
     "output_type": "display_data"
    }
   ],
   "source": [
    "import os\n",
    "\n",
    "folder = \"./files/\"\n",
    "if os.path.isdir(folder):\n",
    "    pass\n",
    "else:\n",
    "    os.mkdir(folder)\n",
    "\n",
    "mesh.write(folder + \"square_bound.vtk\")"
   ]
  },
  {
   "cell_type": "code",
   "execution_count": null,
   "id": "0fab0a71",
   "metadata": {},
   "outputs": [],
   "source": []
  }
 ],
 "metadata": {
  "kernelspec": {
   "display_name": "bem",
   "language": "python",
   "name": "python3"
  },
  "language_info": {
   "codemirror_mode": {
    "name": "ipython",
    "version": 3
   },
   "file_extension": ".py",
   "mimetype": "text/x-python",
   "name": "python",
   "nbconvert_exporter": "python",
   "pygments_lexer": "ipython3",
   "version": "3.13.2"
  },
  "varInspector": {
   "cols": {
    "lenName": 16,
    "lenType": 16,
    "lenVar": 40
   },
   "kernels_config": {
    "python": {
     "delete_cmd_postfix": "",
     "delete_cmd_prefix": "del ",
     "library": "var_list.py",
     "varRefreshCmd": "print(var_dic_list())"
    },
    "r": {
     "delete_cmd_postfix": ") ",
     "delete_cmd_prefix": "rm(",
     "library": "var_list.r",
     "varRefreshCmd": "cat(var_dic_list()) "
    }
   },
   "types_to_exclude": [
    "module",
    "function",
    "builtin_function_or_method",
    "instance",
    "_Feature"
   ],
   "window_display": false
  }
 },
 "nbformat": 4,
 "nbformat_minor": 5
}
