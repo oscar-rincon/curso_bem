{
 "cells": [
  {
   "cell_type": "code",
   "execution_count": 60,
   "id": "7bfe5797",
   "metadata": {},
   "outputs": [
    {
     "name": "stdout",
     "output_type": "stream",
     "text": [
      "The autoreload extension is already loaded. To reload it, use:\n",
      "  %reload_ext autoreload\n"
     ]
    }
   ],
   "source": [
    "from funciones_helmholtz_bem import Square\n",
    "from funciones_helmholtz_bem import frequencyToWavenumber\n",
    "from funciones_helmholtz_bem import solveInteriorBoundary\n",
    "from funciones_helmholtz_bem import solveInterior\n",
    "from funciones_helmholtz_bem import printInteriorSolution\n",
    "import numpy as np\n",
    "# reload kernel\n",
    "%load_ext autoreload\n",
    "%autoreload 2"
   ]
  },
  {
   "cell_type": "code",
   "execution_count": 61,
   "id": "d30f5711",
   "metadata": {},
   "outputs": [],
   "source": [
    "# Parámetros físicos del problema\n",
    "c = 344.0            # Velocidad del sonido en el aire [m/s]\n",
    "frequency = 400.0    # Frecuencia de la onda [Hz]\n",
    "density= 1.205        # Densidad del medio [kg/m^3]\n",
    "k = frequencyToWavenumber(frequency)  # Número de onda correspondiente\n",
    "\n",
    "# Generación de la malla cuadrada\n",
    "aVertex, aElement = Square()          # Nodos y elementos de la malla\n",
    "size = aElement.shape[0]              # Número de elementos en la malla\n",
    "\n",
    "# Inicialización de los arreglos para las condiciones de contorno\n",
    "alpha = np.full(size, 1.0, dtype=complex)   # Coeficiente de Robin (α)\n",
    "beta  = np.full(size, 0.0, dtype=complex)   # Coeficiente de Robin (β)\n",
    "f     = np.empty(size, dtype=complex)       # Término fuente en la frontera\n",
    "phi   = np.full(size, 0.0, dtype=complex)   # Potencial escalar (campo total)\n",
    "v     = np.full(size, 0.0, dtype=complex)   # Derivada normal del potencial\n",
    "\n",
    "# Cálculo de centros de los elementos y sus longitudes\n",
    "aCenters = 0.5 * (aVertex[aElement[:, 0]] + aVertex[aElement[:, 1]])\n",
    "aLength = np.linalg.norm(aVertex[aElement[:, 0]] - aVertex[aElement[:, 1]], axis=1)\n",
    "\n",
    "# Definición del término fuente f como función del centro de los elementos\n",
    "f[:] = np.sin(k / np.sqrt(2.0) * aCenters[:, 0]) * np.sin(k / np.sqrt(2.0) * aCenters[:, 1])\n",
    "\n",
    "# Definición de puntos interiores donde se evaluará la solución\n",
    "interiorPoints = np.array([\n",
    "    [0.0250, 0.0250],\n",
    "    [0.0750, 0.0250],\n",
    "    [0.0250, 0.0750],\n",
    "    [0.0750, 0.0750],\n",
    "    [0.0500, 0.0500]\n",
    "], dtype=np.float32)\n",
    "\n",
    "# Potencial incidente en los puntos interiores (inicialmente cero)\n",
    "interiorIncidentPhi = np.zeros(interiorPoints.shape[0], dtype=complex)"
   ]
  },
  {
   "cell_type": "code",
   "execution_count": 62,
   "id": "7f061004",
   "metadata": {},
   "outputs": [
    {
     "name": "stdout",
     "output_type": "stream",
     "text": [
      "Density of medium:      1.205 kg/m^3\n",
      "Speed of sound:         344.0 m/s\n",
      "Wavenumber (Frequency): 7.306029426953008 (400.0 Hz)\n",
      "\n",
      "index          Potential                   Pressure                    Velocity              Intensity\n",
      "    1   0.0000e+00+  0.0000e+00i    0.0000e+00+  0.0000e+00i   -1.6414e-01+  6.9431e-03i     0.0000e+00\n",
      "    2   0.0000e+00+  0.0000e+00i    0.0000e+00+  0.0000e+00i   -5.0024e-01+  8.1575e-03i     0.0000e+00\n",
      "    3   0.0000e+00+  0.0000e+00i    0.0000e+00+  0.0000e+00i   -8.3281e-01+  9.1901e-03i     0.0000e+00\n",
      "    4   0.0000e+00+  0.0000e+00i    0.0000e+00+  0.0000e+00i   -1.1621e+00+  1.0149e-02i     0.0000e+00\n",
      "    5   0.0000e+00+  0.0000e+00i    0.0000e+00+  0.0000e+00i   -1.4863e+00+  1.1014e-02i     0.0000e+00\n",
      "    6   0.0000e+00+  0.0000e+00i    0.0000e+00+  0.0000e+00i   -1.8031e+00+  1.1630e-02i     0.0000e+00\n",
      "    7   0.0000e+00+  0.0000e+00i    0.0000e+00+  0.0000e+00i   -2.1077e+00+  1.1436e-02i     0.0000e+00\n",
      "    8   0.0000e+00+  0.0000e+00i    0.0000e+00+  0.0000e+00i   -2.4895e+00+  2.4517e-03i     0.0000e+00\n",
      "    9   1.5946e-02+  0.0000e+00i    0.0000e+00+  4.8292e+01i   -4.0536e-02+  2.0299e-02i     4.9014e-01\n",
      "   10   4.7771e-02+  0.0000e+00i    0.0000e+00+  1.4467e+02i    4.2429e-01+  9.8144e-03i     7.0994e-01\n",
      "   11   7.9397e-02+  0.0000e+00i    0.0000e+00+  2.4045e+02i    7.2587e-01+  2.4639e-03i     2.9623e-01\n",
      "   12   1.1069e-01+  0.0000e+00i    0.0000e+00+  3.3523e+02i    1.0134e+00+ -3.2972e-03i    -5.5265e-01\n",
      "   13   1.4152e-01+  0.0000e+00i    0.0000e+00+  4.2861e+02i    1.2945e+00+ -8.6216e-03i    -1.8476e+00\n",
      "   14   1.7177e-01+  0.0000e+00i    0.0000e+00+  5.2020e+02i    1.5708e+00+ -1.4098e-02i    -3.6668e+00\n",
      "   15   2.0130e-01+  0.0000e+00i    0.0000e+00+  6.0962e+02i    1.8455e+00+ -2.0318e-02i    -6.1931e+00\n",
      "   16   2.2998e-01+  0.0000e+00i    0.0000e+00+  6.9651e+02i    2.3251e+00+ -2.1939e-02i    -7.6404e+00\n",
      "   17   2.2998e-01+  0.0000e+00i    0.0000e+00+  6.9651e+02i    2.3251e+00+ -2.1942e-02i    -7.6415e+00\n",
      "   18   2.0130e-01+  0.0000e+00i    0.0000e+00+  6.0962e+02i    1.8455e+00+ -2.0321e-02i    -6.1940e+00\n",
      "   19   1.7177e-01+  0.0000e+00i    0.0000e+00+  5.2020e+02i    1.5708e+00+ -1.4101e-02i    -3.6676e+00\n",
      "   20   1.4152e-01+  0.0000e+00i    0.0000e+00+  4.2861e+02i    1.2945e+00+ -8.6247e-03i    -1.8483e+00\n",
      "   21   1.1069e-01+  0.0000e+00i    0.0000e+00+  3.3523e+02i    1.0134e+00+ -3.3017e-03i    -5.5342e-01\n",
      "   22   7.9397e-02+  0.0000e+00i    0.0000e+00+  2.4045e+02i    7.2592e-01+  2.4569e-03i     2.9539e-01\n",
      "   23   4.7771e-02+  0.0000e+00i    0.0000e+00+  1.4467e+02i    4.2429e-01+  9.8102e-03i     7.0964e-01\n",
      "   24   1.5946e-02+  0.0000e+00i    0.0000e+00+  4.8292e+01i   -4.0533e-02+  2.0296e-02i     4.9007e-01\n",
      "   25   0.0000e+00+  0.0000e+00i    0.0000e+00+  0.0000e+00i   -2.4895e+00+  2.4529e-03i     0.0000e+00\n",
      "   26   0.0000e+00+  0.0000e+00i    0.0000e+00+  0.0000e+00i   -2.1077e+00+  1.1436e-02i     0.0000e+00\n",
      "   27   0.0000e+00+  0.0000e+00i    0.0000e+00+  0.0000e+00i   -1.8031e+00+  1.1629e-02i     0.0000e+00\n",
      "   28   0.0000e+00+  0.0000e+00i    0.0000e+00+  0.0000e+00i   -1.4863e+00+  1.1014e-02i     0.0000e+00\n",
      "   29   0.0000e+00+  0.0000e+00i    0.0000e+00+  0.0000e+00i   -1.1621e+00+  1.0148e-02i     0.0000e+00\n",
      "   30   0.0000e+00+  0.0000e+00i    0.0000e+00+  0.0000e+00i   -8.3281e-01+  9.1891e-03i     0.0000e+00\n",
      "   31   0.0000e+00+  0.0000e+00i    0.0000e+00+  0.0000e+00i   -5.0024e-01+  8.1565e-03i     0.0000e+00\n",
      "   32   0.0000e+00+  0.0000e+00i    0.0000e+00+  0.0000e+00i   -1.6414e-01+  6.9419e-03i     0.0000e+00\n",
      "\n"
     ]
    }
   ],
   "source": [
    "v, phi = solveInteriorBoundary(k, alpha, beta, f, phi, v, c, density, aVertex, aElement)"
   ]
  },
  {
   "cell_type": "code",
   "execution_count": 63,
   "id": "1595db5c",
   "metadata": {},
   "outputs": [],
   "source": [
    "interiorPhi = solveInterior(k, v, phi, interiorIncidentPhi, interiorPoints, aVertex, aElement)"
   ]
  },
  {
   "cell_type": "code",
   "execution_count": 64,
   "id": "d66fd0e0",
   "metadata": {},
   "outputs": [
    {
     "name": "stdout",
     "output_type": "stream",
     "text": [
      "\n",
      "Sound pressure at the sample points\n",
      "\n",
      "index          Potential                    Pressure               Magnitude         Phase\n",
      "\n",
      "    1   1.5891e-02+  1.1818e-04i   -3.5790e-01+  4.8126e+01i     1.2763e+02 dB       1.5782\n",
      "    2   4.8175e-02+  4.0339e-05i   -1.2217e-01+  1.4590e+02i     1.3726e+02 dB       1.5716\n",
      "    3   4.8175e-02+  4.0388e-05i   -1.2232e-01+  1.4590e+02i     1.3726e+02 dB       1.5716\n",
      "    4   1.4337e-01+ -2.5711e-04i    7.7865e-01+  4.3419e+02i     1.4673e+02 dB       1.5690\n",
      "    5   6.4983e-02+ -1.3881e-05i    4.2037e-02+  1.9680e+02i     1.3986e+02 dB       1.5706\n"
     ]
    }
   ],
   "source": [
    "printInteriorSolution(k, c, density, interiorPhi)"
   ]
  }
 ],
 "metadata": {
  "kernelspec": {
   "display_name": "bem",
   "language": "python",
   "name": "python3"
  },
  "language_info": {
   "codemirror_mode": {
    "name": "ipython",
    "version": 3
   },
   "file_extension": ".py",
   "mimetype": "text/x-python",
   "name": "python",
   "nbconvert_exporter": "python",
   "pygments_lexer": "ipython3",
   "version": "3.13.2"
  }
 },
 "nbformat": 4,
 "nbformat_minor": 5
}
