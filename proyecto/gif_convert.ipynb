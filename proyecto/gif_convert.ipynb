{
 "cells": [
  {
   "cell_type": "code",
   "execution_count": 3,
   "id": "4dcdcd15",
   "metadata": {},
   "outputs": [
    {
     "name": "stdout",
     "output_type": "stream",
     "text": [
      "Extracted 52 frames to folder 'gif_frames'\n"
     ]
    }
   ],
   "source": [
    "from PIL import Image\n",
    "import os\n",
    "\n",
    "# Path to your input GIF\n",
    "gif_path = \"Schrodinger.gif\"\n",
    "\n",
    "# Output directory for frames\n",
    "output_dir = \"gif_frames\"\n",
    "os.makedirs(output_dir, exist_ok=True)\n",
    "\n",
    "# Load the GIF\n",
    "gif = Image.open(gif_path)\n",
    "\n",
    "# Extract and save each frame\n",
    "frame_index = 0\n",
    "while True:\n",
    "    # Save current frame\n",
    "    frame_path = os.path.join(output_dir, f\"frame_{frame_index:02d}.png\")\n",
    "    gif.save(frame_path, format=\"PNG\")\n",
    "    \n",
    "    frame_index += 1\n",
    "    try:\n",
    "        gif.seek(gif.tell() + 1)  # Move to next frame\n",
    "    except EOFError:\n",
    "        break  # No more frames\n",
    "\n",
    "print(f\"Extracted {frame_index} frames to folder '{output_dir}'\")\n"
   ]
  }
 ],
 "metadata": {
  "kernelspec": {
   "display_name": "bem",
   "language": "python",
   "name": "python3"
  },
  "language_info": {
   "codemirror_mode": {
    "name": "ipython",
    "version": 3
   },
   "file_extension": ".py",
   "mimetype": "text/x-python",
   "name": "python",
   "nbconvert_exporter": "python",
   "pygments_lexer": "ipython3",
   "version": "3.13.2"
  }
 },
 "nbformat": 4,
 "nbformat_minor": 5
}
