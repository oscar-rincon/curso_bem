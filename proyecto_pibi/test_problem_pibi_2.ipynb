{
 "cells": [
  {
   "cell_type": "code",
   "execution_count": 114,
   "id": "8a2f322e",
   "metadata": {},
   "outputs": [],
   "source": [
    "# load packages\n",
    "import torch\n",
    "import torch.nn as nn\n",
    "import numpy as np\n",
    "from scipy.ndimage import gaussian_filter1d\n",
    "import matplotlib.pyplot as plt\n",
    "from matplotlib import cm\n",
    "from matplotlib.font_manager import FontProperties\n",
    "import os\n",
    "from datetime import datetime\n",
    "from sklearn.datasets import make_spd_matrix\n",
    "from torch.utils.data import random_split, DataLoader\n",
    "from scipy.stats import qmc\n",
    "import time"
   ]
  },
  {
   "cell_type": "code",
   "execution_count": null,
   "id": "a27fe570",
   "metadata": {},
   "outputs": [],
   "source": [
    "def u_analytic(x, y):\n",
    "    return np.sin(x) * np.sinh(y)"
   ]
  }
 ],
 "metadata": {
  "kernelspec": {
   "display_name": "bem",
   "language": "python",
   "name": "python3"
  },
  "language_info": {
   "codemirror_mode": {
    "name": "ipython",
    "version": 3
   },
   "file_extension": ".py",
   "mimetype": "text/x-python",
   "name": "python",
   "nbconvert_exporter": "python",
   "pygments_lexer": "ipython3",
   "version": "3.13.2"
  }
 },
 "nbformat": 4,
 "nbformat_minor": 5
}
