{
 "cells": [
  {
   "cell_type": "markdown",
   "id": "49988d24",
   "metadata": {},
   "source": [
    "# Index notation and `einsum`"
   ]
  },
  {
   "cell_type": "markdown",
   "id": "1d842fb4",
   "metadata": {},
   "source": [
    "\n",
    "The key concept with index notation is that _tensor_ quantities\n",
    "can be described by a number of components. These components can\n",
    "be labelled by an index (subindex or superindex) which indicates\n",
    "the number and form of the components. Thus, instead of writing\n",
    "the set of components $(x_1, x_2, x_3)$, we can write $x_i$—assuming\n",
    "that it is clear that $i=1, 2, 3$, as it is in $\\mathbb{R}^3$.\n",
    "\n",
    "We could have more complicated quantities, such as second order\n",
    "or higher order tensors. For example $\\sigma_{ij}$ represent\n",
    "the 9 components of the stress tensor.\n"
   ]
  },
  {
   "cell_type": "markdown",
   "id": "c20410f6",
   "metadata": {},
   "source": [
    "## Summation convention"
   ]
  },
  {
   "cell_type": "markdown",
   "id": "fe479e21",
   "metadata": {},
   "source": [
    "Consider the expression\n",
    "\n",
    "$$x_1 y_1 + x_2 y_2 + x_3 y_3\\, ,$$\n",
    "\n",
    "which can be interpreted as the scalar product of\n",
    "vectors $\\mathbf{x} = (x_1, x_2, x_3)$ and\n",
    "$\\mathbf{y} = (y_1, y_2, y_3)$ in $\\mathbb{R}^3$.\n",
    "This expression can be written as\n",
    "\n",
    "$$\\sum_{i=1}^3 x_i y_i\\, .$$\n",
    "\n",
    "It is pretty common to have repeated indices when\n",
    "summation happens. The convention is to avoid the\n",
    "summation symbol when an index is repeated twice\n",
    "(and only twice).\n",
    "\n",
    "Using this convention the scalar product of\n",
    "the vectors $x_i$ and $y_i$ is written as\n",
    "\n",
    "$$x_i y_i\\, .$$\n",
    "\n",
    "The repeated index is called a _dummy_ index as opposed to one that is not summed,\n",
    "which is referred to as a _free_ index. Since a dummy index indicates a summation\n",
    "operation, any index can be used without changing the result. For example,\n",
    "$x_i$ $y_i$ and $x_j$ $y_j$ are the same product.\n",
    "\n",
    "\n",
    "When there are more than two summation operations to be performed caution\n",
    "must be exercised in the use of the summation convention. The following rules can\n",
    "therefore help\n",
    "\n",
    "- If a subscript occurs twice in a term in an equation, then it must be summed\n",
    "over its range. These are the repeated or dummy indices, e.g.,\n",
    "\n",
    "$$C_{ikk} = C_{i11} + C_{i22} + C_{i33}$$\n",
    "\n",
    "- If a subscript occurs once in a term then it must occur once in every other term\n",
    "  in the equation. These are the _free_ indices, e.g.,\n",
    "\n",
    "\\begin{align}\n",
    "& &F_1 = ma_1\\\\\n",
    "&F_i = ma_i \\Rightarrow &F_2 = ma_2\\\\\n",
    "& &F_3 = ma_3\n",
    "\\end{align}\n",
    "\n",
    "- If a subscript occurs more than twice in a term, then it is a mistake , e.g.,\n",
    "\n",
    "$$A_{iij} B_{ij}$$"
   ]
  },
  {
   "cell_type": "code",
   "execution_count": 1,
   "id": "024da674",
   "metadata": {},
   "outputs": [],
   "source": [
    "import numpy as np"
   ]
  },
  {
   "cell_type": "markdown",
   "id": "cd7df18a",
   "metadata": {},
   "source": [
    "### Inner product of vectors"
   ]
  },
  {
   "cell_type": "code",
   "execution_count": 2,
   "id": "bf8be40a",
   "metadata": {},
   "outputs": [],
   "source": [
    "x = np.array([1, 2, 3])\n",
    "y = np.array([0, 2, 5])"
   ]
  },
  {
   "cell_type": "code",
   "execution_count": 3,
   "id": "50c83ed6",
   "metadata": {},
   "outputs": [
    {
     "name": "stdout",
     "output_type": "stream",
     "text": [
      "1.86 µs ± 33.7 ns per loop (mean ± std. dev. of 7 runs, 1,000,000 loops each)\n"
     ]
    }
   ],
   "source": [
    "%%timeit\n",
    "np.einsum('i,i', x, y)"
   ]
  },
  {
   "cell_type": "code",
   "execution_count": 4,
   "id": "e9ece172",
   "metadata": {},
   "outputs": [
    {
     "name": "stdout",
     "output_type": "stream",
     "text": [
      "536 ns ± 7.52 ns per loop (mean ± std. dev. of 7 runs, 1,000,000 loops each)\n"
     ]
    }
   ],
   "source": [
    "%%timeit\n",
    "x.dot(y)"
   ]
  },
  {
   "cell_type": "code",
   "execution_count": 5,
   "id": "b96322a9",
   "metadata": {},
   "outputs": [
    {
     "name": "stdout",
     "output_type": "stream",
     "text": [
      "941 ns ± 13.9 ns per loop (mean ± std. dev. of 7 runs, 1,000,000 loops each)\n"
     ]
    }
   ],
   "source": [
    "%%timeit\n",
    "aux = 0\n",
    "for xi, yi in zip(x, y):\n",
    "    aux += xi * yi"
   ]
  },
  {
   "cell_type": "code",
   "execution_count": 6,
   "id": "cf256791",
   "metadata": {},
   "outputs": [
    {
     "name": "stdout",
     "output_type": "stream",
     "text": [
      "960 ns ± 20.4 ns per loop (mean ± std. dev. of 7 runs, 1,000,000 loops each)\n"
     ]
    }
   ],
   "source": [
    "%%timeit\n",
    "x.T @ y"
   ]
  },
  {
   "cell_type": "markdown",
   "id": "4c0a49ff",
   "metadata": {},
   "source": [
    "### Matrix-vector product"
   ]
  },
  {
   "cell_type": "code",
   "execution_count": 7,
   "id": "0f9f15c0",
   "metadata": {},
   "outputs": [],
   "source": [
    "A = np.random.rand(2, 2)\n",
    "b = np.random.rand(2)"
   ]
  },
  {
   "cell_type": "code",
   "execution_count": 8,
   "id": "fae83f02",
   "metadata": {},
   "outputs": [
    {
     "data": {
      "text/plain": [
       "array([0.49581199, 0.30964496])"
      ]
     },
     "execution_count": 8,
     "metadata": {},
     "output_type": "execute_result"
    }
   ],
   "source": [
    "A @ b"
   ]
  },
  {
   "cell_type": "code",
   "execution_count": 9,
   "id": "d5fb9442",
   "metadata": {},
   "outputs": [
    {
     "data": {
      "text/plain": [
       "array([0.49581199, 0.30964496])"
      ]
     },
     "execution_count": 9,
     "metadata": {},
     "output_type": "execute_result"
    }
   ],
   "source": [
    "np.einsum('ij,j', A, b)"
   ]
  },
  {
   "cell_type": "code",
   "execution_count": 10,
   "id": "eaefcdaa",
   "metadata": {},
   "outputs": [
    {
     "data": {
      "text/plain": [
       "array([0.49581199, 0.30964496])"
      ]
     },
     "execution_count": 10,
     "metadata": {},
     "output_type": "execute_result"
    }
   ],
   "source": [
    "A.dot(b)"
   ]
  },
  {
   "cell_type": "code",
   "execution_count": 11,
   "id": "038af66c",
   "metadata": {},
   "outputs": [
    {
     "name": "stdout",
     "output_type": "stream",
     "text": [
      "1.08 µs ± 149 ns per loop (mean ± std. dev. of 7 runs, 1,000,000 loops each)\n"
     ]
    }
   ],
   "source": [
    "%%timeit\n",
    "A @ b"
   ]
  },
  {
   "cell_type": "code",
   "execution_count": 12,
   "id": "f2877d7c",
   "metadata": {},
   "outputs": [
    {
     "name": "stdout",
     "output_type": "stream",
     "text": [
      "2.34 µs ± 203 ns per loop (mean ± std. dev. of 7 runs, 100,000 loops each)\n"
     ]
    }
   ],
   "source": [
    "%%timeit\n",
    "np.einsum('ij,j', A, b)"
   ]
  },
  {
   "cell_type": "code",
   "execution_count": 13,
   "id": "6bbe5dfb",
   "metadata": {},
   "outputs": [
    {
     "name": "stdout",
     "output_type": "stream",
     "text": [
      "504 ns ± 15.4 ns per loop (mean ± std. dev. of 7 runs, 1,000,000 loops each)\n"
     ]
    }
   ],
   "source": [
    "%%timeit\n",
    "A.dot(b)"
   ]
  },
  {
   "cell_type": "markdown",
   "id": "a71ab35e",
   "metadata": {},
   "source": [
    "### Matrix-matrix product"
   ]
  },
  {
   "cell_type": "code",
   "execution_count": 14,
   "id": "1a81831d",
   "metadata": {},
   "outputs": [],
   "source": [
    "A = np.random.rand(5, 5)\n",
    "B = np.random.rand(5, 5)"
   ]
  },
  {
   "cell_type": "code",
   "execution_count": 15,
   "id": "0ef6b5f4",
   "metadata": {},
   "outputs": [
    {
     "data": {
      "text/plain": [
       "array([[1.49524696, 1.58604256, 0.91967568, 1.79855181, 1.41959233],\n",
       "       [1.18094414, 0.98447993, 0.66828529, 1.40041201, 1.06856   ],\n",
       "       [1.66850723, 1.48751007, 1.10783937, 1.25721987, 1.72149805],\n",
       "       [1.51837438, 1.05172113, 0.51779659, 1.43648815, 1.39215514],\n",
       "       [1.56447687, 1.38071448, 0.67821992, 1.64597239, 1.53019174]])"
      ]
     },
     "execution_count": 15,
     "metadata": {},
     "output_type": "execute_result"
    }
   ],
   "source": [
    "np.einsum('ij,jk->ik', A, B)"
   ]
  },
  {
   "cell_type": "code",
   "execution_count": 16,
   "id": "375cecb6",
   "metadata": {},
   "outputs": [
    {
     "data": {
      "text/plain": [
       "array([[1.49524696, 1.58604256, 0.91967568, 1.79855181, 1.41959233],\n",
       "       [1.18094414, 0.98447993, 0.66828529, 1.40041201, 1.06856   ],\n",
       "       [1.66850723, 1.48751007, 1.10783937, 1.25721987, 1.72149805],\n",
       "       [1.51837438, 1.05172113, 0.51779659, 1.43648815, 1.39215514],\n",
       "       [1.56447687, 1.38071448, 0.67821992, 1.64597239, 1.53019174]])"
      ]
     },
     "execution_count": 16,
     "metadata": {},
     "output_type": "execute_result"
    }
   ],
   "source": [
    "A @ B"
   ]
  },
  {
   "cell_type": "code",
   "execution_count": 17,
   "id": "4dae3391",
   "metadata": {},
   "outputs": [
    {
     "data": {
      "text/plain": [
       "array([[1.49524696, 1.58604256, 0.91967568, 1.79855181, 1.41959233],\n",
       "       [1.18094414, 0.98447993, 0.66828529, 1.40041201, 1.06856   ],\n",
       "       [1.66850723, 1.48751007, 1.10783937, 1.25721987, 1.72149805],\n",
       "       [1.51837438, 1.05172113, 0.51779659, 1.43648815, 1.39215514],\n",
       "       [1.56447687, 1.38071448, 0.67821992, 1.64597239, 1.53019174]])"
      ]
     },
     "execution_count": 17,
     "metadata": {},
     "output_type": "execute_result"
    }
   ],
   "source": [
    "C = np.zeros_like(A)\n",
    "for i in range(5):\n",
    "    for j in range(5):\n",
    "        for k in range(5):\n",
    "            C[i, k] += A[i, j] * B[j, k]\n",
    "C"
   ]
  },
  {
   "cell_type": "code",
   "execution_count": 18,
   "id": "77526262",
   "metadata": {},
   "outputs": [
    {
     "name": "stdout",
     "output_type": "stream",
     "text": [
      "2.5 µs ± 78.4 ns per loop (mean ± std. dev. of 7 runs, 100,000 loops each)\n"
     ]
    }
   ],
   "source": [
    "%%timeit\n",
    "np.einsum('ij,jk->ik', A, B)"
   ]
  },
  {
   "cell_type": "code",
   "execution_count": 19,
   "id": "5ea67a72",
   "metadata": {},
   "outputs": [
    {
     "name": "stdout",
     "output_type": "stream",
     "text": [
      "1.51 µs ± 196 ns per loop (mean ± std. dev. of 7 runs, 1,000,000 loops each)\n"
     ]
    }
   ],
   "source": [
    "%%timeit\n",
    "A @ B"
   ]
  },
  {
   "cell_type": "code",
   "execution_count": 20,
   "id": "b08de2eb",
   "metadata": {},
   "outputs": [
    {
     "name": "stdout",
     "output_type": "stream",
     "text": [
      "61.6 µs ± 1.18 µs per loop (mean ± std. dev. of 7 runs, 10,000 loops each)\n"
     ]
    }
   ],
   "source": [
    "%%timeit\n",
    "C = np.zeros_like(A)\n",
    "for i in range(5):\n",
    "    for j in range(5):\n",
    "        for k in range(5):\n",
    "            C[i, k] += A[i, j] * B[j, k]"
   ]
  },
  {
   "cell_type": "markdown",
   "id": "2b3280e6",
   "metadata": {},
   "source": [
    "### Triads"
   ]
  },
  {
   "cell_type": "code",
   "execution_count": 21,
   "id": "dd1f9e04",
   "metadata": {},
   "outputs": [],
   "source": [
    "a = np.array([1, 2, 3])\n",
    "b = np.array([4, 5, 6])\n",
    "c = np.array([7, 8, 9])"
   ]
  },
  {
   "cell_type": "code",
   "execution_count": 22,
   "id": "41d8266b",
   "metadata": {},
   "outputs": [
    {
     "data": {
      "text/plain": [
       "array([[ 4,  5,  6],\n",
       "       [ 8, 10, 12],\n",
       "       [12, 15, 18]])"
      ]
     },
     "execution_count": 22,
     "metadata": {},
     "output_type": "execute_result"
    }
   ],
   "source": [
    "np.einsum('i,j->ij', a, b)"
   ]
  },
  {
   "cell_type": "code",
   "execution_count": 23,
   "id": "d96b1305",
   "metadata": {},
   "outputs": [
    {
     "data": {
      "text/plain": [
       "array([[ 4,  5,  6],\n",
       "       [ 8, 10, 12],\n",
       "       [12, 15, 18]])"
      ]
     },
     "execution_count": 23,
     "metadata": {},
     "output_type": "execute_result"
    }
   ],
   "source": [
    "np.outer(a, b)"
   ]
  },
  {
   "cell_type": "code",
   "execution_count": 24,
   "id": "b5283214",
   "metadata": {},
   "outputs": [
    {
     "data": {
      "text/plain": [
       "array([[ 4,  5,  6],\n",
       "       [ 8, 10, 12],\n",
       "       [12, 15, 18]])"
      ]
     },
     "execution_count": 24,
     "metadata": {},
     "output_type": "execute_result"
    }
   ],
   "source": [
    "a[:, None] * b"
   ]
  },
  {
   "cell_type": "code",
   "execution_count": 25,
   "id": "51a8b252",
   "metadata": {},
   "outputs": [
    {
     "name": "stdout",
     "output_type": "stream",
     "text": [
      "2.14 µs ± 83.7 ns per loop (mean ± std. dev. of 7 runs, 100,000 loops each)\n"
     ]
    }
   ],
   "source": [
    "%%timeit\n",
    "np.einsum('i,j->ij', a, b)"
   ]
  },
  {
   "cell_type": "code",
   "execution_count": 26,
   "id": "e3600dc5",
   "metadata": {},
   "outputs": [
    {
     "name": "stdout",
     "output_type": "stream",
     "text": [
      "2.06 µs ± 59.2 ns per loop (mean ± std. dev. of 7 runs, 100,000 loops each)\n"
     ]
    }
   ],
   "source": [
    "%%timeit\n",
    "np.outer(a, b)"
   ]
  },
  {
   "cell_type": "code",
   "execution_count": 27,
   "id": "46c94ba3",
   "metadata": {},
   "outputs": [
    {
     "name": "stdout",
     "output_type": "stream",
     "text": [
      "1.33 µs ± 13 ns per loop (mean ± std. dev. of 7 runs, 1,000,000 loops each)\n"
     ]
    }
   ],
   "source": [
    "%%timeit\n",
    "a[:, None] * b"
   ]
  },
  {
   "cell_type": "code",
   "execution_count": 28,
   "id": "ae1a2805",
   "metadata": {},
   "outputs": [
    {
     "data": {
      "text/plain": [
       "array([[[ 28,  32,  36],\n",
       "        [ 35,  40,  45],\n",
       "        [ 42,  48,  54]],\n",
       "\n",
       "       [[ 56,  64,  72],\n",
       "        [ 70,  80,  90],\n",
       "        [ 84,  96, 108]],\n",
       "\n",
       "       [[ 84,  96, 108],\n",
       "        [105, 120, 135],\n",
       "        [126, 144, 162]]])"
      ]
     },
     "execution_count": 28,
     "metadata": {},
     "output_type": "execute_result"
    }
   ],
   "source": [
    "np.einsum('i,j,k->ijk', a, b, c)"
   ]
  },
  {
   "cell_type": "code",
   "execution_count": 29,
   "id": "4e634fa2",
   "metadata": {},
   "outputs": [
    {
     "data": {
      "text/plain": [
       "array([[[ 28,  32,  36],\n",
       "        [ 35,  40,  45],\n",
       "        [ 42,  48,  54]],\n",
       "\n",
       "       [[ 56,  64,  72],\n",
       "        [ 70,  80,  90],\n",
       "        [ 84,  96, 108]],\n",
       "\n",
       "       [[ 84,  96, 108],\n",
       "        [105, 120, 135],\n",
       "        [126, 144, 162]]])"
      ]
     },
     "execution_count": 29,
     "metadata": {},
     "output_type": "execute_result"
    }
   ],
   "source": [
    "(a[:, None] * b)[:, :, None] * c"
   ]
  },
  {
   "cell_type": "code",
   "execution_count": 30,
   "id": "55ad6ed1",
   "metadata": {},
   "outputs": [
    {
     "name": "stdout",
     "output_type": "stream",
     "text": [
      "2.92 µs ± 48 ns per loop (mean ± std. dev. of 7 runs, 100,000 loops each)\n"
     ]
    }
   ],
   "source": [
    "%%timeit\n",
    "np.einsum('i,j,k->ijk', a, b, c)"
   ]
  },
  {
   "cell_type": "code",
   "execution_count": 31,
   "id": "55c3ff46",
   "metadata": {},
   "outputs": [
    {
     "name": "stdout",
     "output_type": "stream",
     "text": [
      "2.82 µs ± 63 ns per loop (mean ± std. dev. of 7 runs, 100,000 loops each)\n"
     ]
    }
   ],
   "source": [
    "%%timeit\n",
    "(a[:, None] * b)[:, :, None] * c"
   ]
  },
  {
   "cell_type": "markdown",
   "id": "935f4f7e",
   "metadata": {},
   "source": [
    "## References"
   ]
  },
  {
   "cell_type": "markdown",
   "id": "d04dc975",
   "metadata": {},
   "source": [
    "1. The NumPy community (2021). numpy.einsum — NumPy v1.21 Manual. https://numpy.org/doc/stable/reference/generated/numpy.einsum.html. \n",
    "Accessed July 2021.\n",
    "\n",
    "2. Alex Riley (2015). A Basic Introduction to NumPy's einsum – Ajcr – Haphazard Investigations. https://ajcr.net/Basic-guide-to-einsum/. Accessed July 2021."
   ]
  },
  {
   "cell_type": "code",
   "execution_count": null,
   "id": "3cf8d337",
   "metadata": {},
   "outputs": [],
   "source": []
  }
 ],
 "metadata": {
  "kernelspec": {
   "display_name": "Python 3 (ipykernel)",
   "language": "python",
   "name": "python3"
  },
  "language_info": {
   "codemirror_mode": {
    "name": "ipython",
    "version": 3
   },
   "file_extension": ".py",
   "mimetype": "text/x-python",
   "name": "python",
   "nbconvert_exporter": "python",
   "pygments_lexer": "ipython3",
   "version": "3.11.5"
  },
  "varInspector": {
   "cols": {
    "lenName": 16,
    "lenType": 16,
    "lenVar": 40
   },
   "kernels_config": {
    "python": {
     "delete_cmd_postfix": "",
     "delete_cmd_prefix": "del ",
     "library": "var_list.py",
     "varRefreshCmd": "print(var_dic_list())"
    },
    "r": {
     "delete_cmd_postfix": ") ",
     "delete_cmd_prefix": "rm(",
     "library": "var_list.r",
     "varRefreshCmd": "cat(var_dic_list()) "
    }
   },
   "types_to_exclude": [
    "module",
    "function",
    "builtin_function_or_method",
    "instance",
    "_Feature"
   ],
   "window_display": false
  }
 },
 "nbformat": 4,
 "nbformat_minor": 5
}
