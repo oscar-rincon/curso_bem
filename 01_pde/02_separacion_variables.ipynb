{
 "cells": [
  {
   "cell_type": "markdown",
   "id": "166f29cf",
   "metadata": {},
   "source": [
    "# Separación de variables"
   ]
  },
  {
   "cell_type": "markdown",
   "id": "053eaf8b",
   "metadata": {},
   "source": [
    "En el método de separación de variables proponemos una descomposición\n",
    "aditiva o multiplicativa de la solución para nuestra ecuación diferencial\n",
    "parcial.\n",
    "\n",
    "Supongamos que queremos encontrar una función $u(x, y)$, entonces sería\n",
    "algo como:\n",
    "\n",
    "- $u(x, y) = X(x) Y(x)$; o\n",
    "- $u(x, y) = X(x) + Y(y)$.\n",
    "\n",
    "\n",
    "El método suele usarse para ecuaciones diferenciales lineales en su forma\n",
    "multiplicativa, así que nos referiremos a esto, salvo que se diga\n",
    "lo contrario.\n",
    "\n",
    "\n",
    "Este método puede usarse para resolver problemas de valores en la frontera\n",
    "con las siguientes características:\n",
    "\n",
    "1. La EDP es lineal y homogénea (no necesariamente de coeficientes\n",
    "   constantes.\n",
    "   \n",
    "2. Las condiciones de frontera son de la forma:\n",
    "\n",
    "   \\begin{align*}\n",
    "   &\\alpha u_x(0, t) + \\beta u(0, t) = 0\\, ,\\\\\n",
    "   &\\gamma u_x(1, t) + \\delta u(1, t) = 0\\ ,\n",
    "   \\end{align*}\n",
    "   \n",
    "   con $\\alpha$, $\\beta$, $\\gamma$ y $\\delta$ constante."
   ]
  },
  {
   "cell_type": "markdown",
   "id": "962743f2",
   "metadata": {},
   "source": [
    "## Ejemplo"
   ]
  },
  {
   "cell_type": "markdown",
   "id": "dda04f74",
   "metadata": {},
   "source": [
    "Ilustremos el método resolviendo la siguiente EDP\n",
    "\n",
    "$$u_t = \\alpha^2 u_{xx}\\, ,\\quad 0 < x < 1\\, , 0 < t < \\infty\\, ,$$\n",
    "\n",
    "con condiciones de frontera\n",
    "\n",
    "$$u(0, t) = u(1, t) = 0\\, ,\\quad  0\\leq t\\leq \\infty$$\n",
    "\n",
    "y condiciones iniciales\n",
    "\n",
    "$$ u(x, 0) = \\phi(x), \\quad 0 \\leq x \\leq 1\\, .$$\n",
    "\n",
    "/\n",
    "En este método buscamos soluciones de la forma\n",
    "\n",
    "$$u(x, t) = X(x) T(t)\\, ,$$\n",
    "\n",
    "es decir, para las condiciones de frontera dadas, la forma\n",
    "de la solución será la misma y se escalará con el tiempo.\n",
    "Esto se muestra en la siguiente figura.\n",
    "\n",
    "<img src=\"img/soluciones_tiempo.svg\"\n",
    "     width=600>\n",
    "     \n",
    "Al final terminaremos con un conjunto de soluciones\n",
    "$u_n(x, t) = X_n(x) T_n(t)$, y la solución más general\n",
    "sería de la forma\n",
    "\n",
    "$$u(x, t) = \\sum_{n=1}^{\\infty} A_n X_n(x) T_n(t)\\, .$$\n",
    "\n",
    "A continuación se ilustra paso a paso el método."
   ]
  },
  {
   "cell_type": "markdown",
   "id": "a386788b",
   "metadata": {},
   "source": [
    "### Paso 1: Encontrar las soluciones elementales"
   ]
  },
  {
   "cell_type": "markdown",
   "id": "2899b67c",
   "metadata": {},
   "source": [
    "Para este paso sustituimos $X(x) T(t)$ en la EDP y\n",
    "obtenemos\n",
    "\n",
    "$$X(x) T'(t) = \\alpha^2 X''(x) T(t)\\, .$$\n",
    "\n",
    "En donde las $'$ denotan derivadas totales ya que cada\n",
    "función es de una variable en este caso. Ahora,\n",
    "dividimos ambos lados de la ecuación por $X(x) T(t)$, para\n",
    "obtener\n",
    "\n",
    "$$\\frac{T'(t)}{\\alpha^2 T(t)} = \\frac{X''(x)}{X(x}\\, ,$$\n",
    "\n",
    "y obtenemos las **variables separadas**.\n",
    "\n",
    "<div class=\"alert alert-warning\">\n",
    "\n",
    "Este punto es clave. Podemos notar que tenemos al lado izquiero\n",
    "una función de $t$ y al lado derecho una función de $x$. Sin embargo,\n",
    "estás dos funciones son iguales. Por tanto, esto debe ser igual\n",
    "a una constante.\n",
    "\n",
    "</div>\n",
    "\n",
    "Igualando a una constante obtenemos\n",
    "\n",
    "$$\\frac{T'(t)}{\\alpha^2 T(t)} = \\frac{X''(x)}{X(x} = k\\, ,$$\n",
    "\n",
    "o\n",
    "\n",
    "\\begin{align*}\n",
    "&T' - k \\alpha^2 T = 0\\, ,\\\\\n",
    "&X'' - kX = 0\\, ,\n",
    "\\end{align*}\n",
    "\n",
    "y ahora podemos resolver las dos EDO resultantes.\n",
    "\n",
    "En este caso queremos que $T(t)$ vaya a cero cuando $t\\rightarrow \\infty$,\n",
    "por tanto queremos una constante negativa, $k = -\\lambda^2$. Y obtenemos\n",
    "\n",
    "\n",
    "\\begin{align*}\n",
    "&T' +  \\lambda^2 \\alpha^2 T = 0\\, ,\\\\\n",
    "&X'' - \\lambda^2 X = 0\\, .\n",
    "\\end{align*}\n",
    "\n",
    "La solución de estas ecuaciones es\n",
    "\n",
    "\n",
    "\\begin{align*}\n",
    "&T(t) = C e^{-\\lambda^2 \\alpha^2 t}\\, ,\\\\\n",
    "&X(x) = A \\sin\\lambda x + B\\cos\\lambda x\\, ,\n",
    "\\end{align*}\n",
    "\n",
    "y, entonces,\n",
    "\n",
    "$$u(x, t) = e^{-\\lambda^2\\alpha^2 t}[A \\sin\\lambda x + B \\cos\\lambda x]\\, ,$$\n",
    "\n",
    "es solución.\n",
    "\n",
    "Podemos verificar que este tipo de funciones satisfacen la\n",
    "ecuación diferencial."
   ]
  },
  {
   "cell_type": "code",
   "execution_count": 1,
   "id": "a6e8a222",
   "metadata": {},
   "outputs": [],
   "source": [
    "%matplotlib widget"
   ]
  },
  {
   "cell_type": "code",
   "execution_count": 2,
   "id": "52451738",
   "metadata": {},
   "outputs": [],
   "source": [
    "from sympy import *"
   ]
  },
  {
   "cell_type": "code",
   "execution_count": 3,
   "id": "45e804eb",
   "metadata": {},
   "outputs": [
    {
     "name": "stdout",
     "output_type": "stream",
     "text": [
      "IPython console for SymPy 1.13.0 (Python 3.12.4-64-bit) (ground types: python)\n",
      "\n",
      "These commands were executed:\n",
      ">>> from sympy import *\n",
      ">>> x, y, z, t = symbols('x y z t')\n",
      ">>> k, m, n = symbols('k m n', integer=True)\n",
      ">>> f, g, h = symbols('f g h', cls=Function)\n",
      ">>> init_printing()\n",
      "\n",
      "Documentation can be found at https://docs.sympy.org/1.13.0/\n",
      "\n"
     ]
    }
   ],
   "source": [
    "init_session()"
   ]
  },
  {
   "cell_type": "code",
   "execution_count": 4,
   "id": "ed613271",
   "metadata": {},
   "outputs": [],
   "source": [
    "lamda, alpha = symbols(\"lambda alpha\")\n",
    "A, B = symbols(\"A B\")"
   ]
  },
  {
   "cell_type": "code",
   "execution_count": 5,
   "id": "173cfec1",
   "metadata": {},
   "outputs": [
    {
     "data": {
      "image/png": "[encoded data removed]",
      "text/latex": [
       "$\\displaystyle \\left(A \\sin{\\left(\\lambda x \\right)} + B \\cos{\\left(\\lambda x \\right)}\\right) e^{- \\alpha^{2} \\lambda^{2} t}$"
      ],
      "text/plain": [
       "                             2  2  \n",
       "                           -α ⋅λ ⋅t\n",
       "(A⋅sin(λ⋅x) + B⋅cos(λ⋅x))⋅ℯ        "
      ]
     },
     "execution_count": 5,
     "metadata": {},
     "output_type": "execute_result"
    }
   ],
   "source": [
    "u = exp(-lamda**2 * alpha**2 * t)*(A*sin(lamda*x) + B*cos(lamda*x))\n",
    "u"
   ]
  },
  {
   "cell_type": "code",
   "execution_count": 6,
   "id": "2e2c425d",
   "metadata": {},
   "outputs": [
    {
     "data": {
      "image/png": "[encoded data removed]",
      "text/latex": [
       "$\\displaystyle 0$"
      ],
      "text/plain": [
       "0"
      ]
     },
     "execution_count": 6,
     "metadata": {},
     "output_type": "execute_result"
    }
   ],
   "source": [
    "u.diff(t) - alpha**2 * u.diff(x, 2)"
   ]
  },
  {
   "cell_type": "markdown",
   "id": "5b98bd3d",
   "metadata": {},
   "source": [
    "### Paso 2: Soluciones que sastifaces condiciones de frontera"
   ]
  },
  {
   "cell_type": "markdown",
   "id": "f5521ba0",
   "metadata": {},
   "source": [
    "De todas las soluciones que satisfacen la EDP nos interesan las que\n",
    "satisfagan las condiciones de frontera. Al evaluarlas en la\n",
    "condición de la izquierda obtenemos lo siguiente\n",
    "\n",
    "$$u(0, t) = B e^{-\\lambda^2 \\alpha^2 t} = 0\\, ,$$\n",
    "\n",
    "que implica $B=0$. Para la condición de la derecha obtenemos\n",
    "\n",
    "$$u(1, t) = A e^{-\\lambda^2 \\alpha^2 t} \\sin \\lambda = 0\\, .$$\n",
    "\n",
    "En este caso tenemos dos posibilidades. Si $A = 0$, entonces la\n",
    "solución al problema sería $u = 0$, que no es de nuestro interés.\n",
    "La otra opción sería\n",
    "\n",
    "$$\\sin \\lambda = 0\\, ,$$\n",
    "\n",
    "que implica\n",
    "\n",
    "$$\\lambda = \\pm \\pi, \\pm 2\\pi, \\pm 3\\pi, \\cdots\n",
    " = \\pm n\\pi\\quad \\forall n\\in\\mathbb{N}\\, .$$\n",
    " \n",
    "Y nuestras soluciones que satisfacen las condiciones\n",
    "de frontera serían\n",
    "\n",
    "$$u_n(x, t) = A_n e^{-(n \\pi \\alpha)^2 t} \\sin(n\\pi x)\\quad \\forall n\\in\\mathbb{N}\\, .$$"
   ]
  },
  {
   "cell_type": "code",
   "execution_count": 7,
   "id": "93e81722",
   "metadata": {},
   "outputs": [
    {
     "data": {
      "image/png": "[encoded data removed]",
      "text/latex": [
       "$\\displaystyle A e^{- \\left(\\pi \\alpha n\\right)^{t}} \\sin{\\left(\\pi n x \\right)}$"
      ],
      "text/plain": [
       "           t           \n",
       "   -(π⋅α⋅n)            \n",
       "A⋅ℯ         ⋅sin(π⋅n⋅x)"
      ]
     },
     "execution_count": 7,
     "metadata": {},
     "output_type": "execute_result"
    }
   ],
   "source": [
    "un = A*exp(-(n*pi*alpha)**t)*sin(n*pi*x)\n",
    "un"
   ]
  },
  {
   "cell_type": "code",
   "execution_count": 8,
   "id": "938fd190",
   "metadata": {},
   "outputs": [
    {
     "data": {
      "image/png": "[encoded data removed]",
      "text/latex": [
       "$\\displaystyle 0$"
      ],
      "text/plain": [
       "0"
      ]
     },
     "execution_count": 8,
     "metadata": {},
     "output_type": "execute_result"
    }
   ],
   "source": [
    "un.subs(x, 0)"
   ]
  },
  {
   "cell_type": "code",
   "execution_count": 9,
   "id": "8880d199",
   "metadata": {},
   "outputs": [
    {
     "data": {
      "image/png": "[encoded data removed]",
      "text/latex": [
       "$\\displaystyle 0$"
      ],
      "text/plain": [
       "0"
      ]
     },
     "execution_count": 9,
     "metadata": {},
     "output_type": "execute_result"
    }
   ],
   "source": [
    "un.subs(x, 1)"
   ]
  },
  {
   "cell_type": "markdown",
   "id": "61b8262f",
   "metadata": {},
   "source": [
    "<div class=\"alert alert-warning\">\n",
    "\n",
    "Podemos ver que sólo determinamos 1 de las constantes. Con la\n",
    "otra condición encontramos cuáles debían ser los valores de\n",
    "la constante de separación que hacían que las condiciones de\n",
    "frontera se sastisficieran.\n",
    "\n",
    "Esto es usual de este tipo de problemas ya que estamos resolviendo\n",
    "un problema de valores propios. En este caso los valores propios\n",
    "están dados por $\\lambda_n^2 = (n\\pi)^2$ y los vectores propios\n",
    "(o funciones propias) están dadas por $X_n = \\sin(\\lambda_n x)$.\n",
    "\n",
    "Este constituye un problema de **Sturm-Liouville**. Y es común\n",
    "que aparezcan en el proceso de separación de variables en la parte\n",
    "espacial del problema.\n",
    "</div>"
   ]
  },
  {
   "cell_type": "markdown",
   "id": "b8bcfbf9",
   "metadata": {},
   "source": [
    "### Paso 3: Soluciones que satisfagan condiciones de frontera y condiciones iniciales"
   ]
  },
  {
   "cell_type": "markdown",
   "id": "f4d4d2ca",
   "metadata": {},
   "source": [
    "Como tenemos un problema lineal y encontramos infinitas soluciones\n",
    "particulares, la solución más general sería\n",
    "\n",
    "$$u(x, t) = \\sum_{n=1}^\\infty A_n e^{-(n\\pi \\alpha)^2t} \\sin(n\\pi x)\\, .$$\n",
    "\n",
    "Para encontrar los coeficientes $A_n$ usamos la condición inicial\n",
    "\n",
    "\n",
    "$$u(x, 0) = \\phi(x)\\, ,$$\n",
    "\n",
    "es decir,\n",
    "\n",
    "$$\\phi(x) = \\sum_{n=1}^\\infty A_n \\sin(n\\pi x)\\, .$$\n",
    "\n",
    "\n",
    "Que, como podemos ver, es la representación de la función $\\phi(x)$\n",
    "en la base $\\{\\sin(n\\pi x)| n\\in\\mathbb{N}\\}$.\n",
    "\n",
    "Por tanto, la solución es\n",
    "\n",
    "$$u(x, t) = \\sum_{n=1}^\\infty A_n e^{-(n\\pi\\alpha)^2 t}\\sin(n\\pi x)\\, ,$$\n",
    "\n",
    "con\n",
    "\n",
    "$$A_n = 2\\int\\limits_{0}^{1} \\phi(x) \\sin(n\\pi x)\\mathrm{d}x\\, .$$\n",
    "\n",
    "\n",
    "Para encontrar esta última expresión, multiplicamos\n",
    "\n",
    "$$\\phi(x) = \\sum_{n=1}^\\infty A_n \\sin(n\\pi x)\\, ,$$\n",
    "\n",
    "por $\\sin(m\\pi x)$ a ambos lados e integramos entre 0 y 1. Al hacer\n",
    "uso de la ortogonalidad llegamos a los coeficientes esperados.\n",
    "\n",
    "\n",
    "<div class=\"alert alert-warning\">\n",
    "\n",
    "Podemos decir que en este problema encontramos una base para las soluciones\n",
    "del problema de valores en la frontera y que luego podemos expresar su\n",
    "solución como una combinación lineal de estas funciones.\n",
    "\n",
    "</div>"
   ]
  },
  {
   "cell_type": "markdown",
   "id": "8aa7dbb5",
   "metadata": {},
   "source": [
    "### Ejemplo específico"
   ]
  },
  {
   "cell_type": "markdown",
   "id": "0731114f",
   "metadata": {},
   "source": [
    "Supongamos que\n",
    "\n",
    "$$\\phi(x) = \\frac{1}{2} - \\left|x - \\frac{1}{2}\\right| \\, ,$$"
   ]
  },
  {
   "cell_type": "code",
   "execution_count": 10,
   "id": "50589016",
   "metadata": {},
   "outputs": [],
   "source": [
    "phi = S(1)/2 - Abs(x - S(1)/2)"
   ]
  },
  {
   "cell_type": "code",
   "execution_count": 11,
   "id": "97eda0d7",
   "metadata": {},
   "outputs": [
    {
     "data": {
      "application/vnd.jupyter.widget-view+json": {
       "model_id": "7a59f4ea32aa423a8937c061922e246e",
       "version_major": 2,
       "version_minor": 0
      },
      "image/png": "[encoded data removed]",
      "text/html": [
       "\n",
       "            <div style=\"display: inline-block;\">\n",
       "                <div class=\"jupyter-widgets widget-label\" style=\"text-align: center;\">\n",
       "                    Figure\n",
       "                </div>\n",
       "                <img src='data:image/png;base64,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' width=640.0/>\n",
       "            </div>\n",
       "        "
      ],
      "text/plain": [
       "Canvas(toolbar=Toolbar(toolitems=[('Home', 'Reset original view', 'home', 'home'), ('Back', 'Back to previous …"
      ]
     },
     "metadata": {},
     "output_type": "display_data"
    },
    {
     "data": {
      "text/plain": [
       "<sympy.plotting.backends.matplotlibbackend.matplotlib.MatplotlibBackend at 0x1779a456990>"
      ]
     },
     "execution_count": 11,
     "metadata": {},
     "output_type": "execute_result"
    }
   ],
   "source": [
    "plot(phi, (x, 0, 1))"
   ]
  },
  {
   "cell_type": "markdown",
   "id": "d9d8ba7a",
   "metadata": {},
   "source": [
    "Entonces, el coeficiente estaría dado por lo siguiente."
   ]
  },
  {
   "cell_type": "code",
   "execution_count": 12,
   "id": "0058c665",
   "metadata": {},
   "outputs": [
    {
     "data": {
      "image/png": "[encoded data removed]",
      "text/latex": [
       "$\\displaystyle \\frac{4 \\sin{\\left(\\frac{\\pi n}{2} \\right)}}{\\pi^{2} n^{2}}$"
      ],
      "text/plain": [
       "     ⎛π⋅n⎞\n",
       "4⋅sin⎜───⎟\n",
       "     ⎝ 2 ⎠\n",
       "──────────\n",
       "   2  2   \n",
       "  π ⋅n    "
      ]
     },
     "execution_count": 12,
     "metadata": {},
     "output_type": "execute_result"
    }
   ],
   "source": [
    "n = symbols(\"n\", positive=True, integer=True)\n",
    "An = 2*integrate(phi*sin(n*pi*x), (x, 0, 1))\n",
    "An"
   ]
  },
  {
   "cell_type": "markdown",
   "id": "75bc7c19",
   "metadata": {},
   "source": [
    "Nuestra solución general sería la siguiente."
   ]
  },
  {
   "cell_type": "code",
   "execution_count": 13,
   "id": "11367791",
   "metadata": {},
   "outputs": [
    {
     "data": {
      "image/png": "[encoded data removed]",
      "text/latex": [
       "$\\displaystyle \\sum_{n=1}^{\\infty} \\frac{4 e^{- \\pi^{2} \\alpha^{2} n^{2} t} \\sin{\\left(\\frac{\\pi n}{2} \\right)} \\sin{\\left(\\pi n x \\right)}}{\\pi^{2} n^{2}}$"
      ],
      "text/plain": [
       "  ∞                                      \n",
       "______                                   \n",
       "╲                                        \n",
       " ╲                                       \n",
       "  ╲         2  2  2                      \n",
       "   ╲      -π ⋅α ⋅n ⋅t    ⎛π⋅n⎞           \n",
       "    ╲  4⋅ℯ           ⋅sin⎜───⎟⋅sin(π⋅n⋅x)\n",
       "    ╱                    ⎝ 2 ⎠           \n",
       "   ╱   ──────────────────────────────────\n",
       "  ╱                   2  2               \n",
       " ╱                   π ⋅n                \n",
       "╱                                        \n",
       "‾‾‾‾‾‾                                   \n",
       "n = 1                                    "
      ]
     },
     "execution_count": 13,
     "metadata": {},
     "output_type": "execute_result"
    }
   ],
   "source": [
    "u_final = summation(An*exp(-(n*pi*alpha)**2*t)*sin(n*pi*x), (n, 1, oo))\n",
    "u_final"
   ]
  },
  {
   "cell_type": "markdown",
   "id": "2df3a8db",
   "metadata": {},
   "source": [
    "Podemos verificar que satisface la ecuación diferencial."
   ]
  },
  {
   "cell_type": "code",
   "execution_count": 14,
   "id": "28528e76",
   "metadata": {},
   "outputs": [
    {
     "data": {
      "image/png": "[encoded data removed]",
      "text/latex": [
       "$\\displaystyle 0$"
      ],
      "text/plain": [
       "0"
      ]
     },
     "execution_count": 14,
     "metadata": {},
     "output_type": "execute_result"
    }
   ],
   "source": [
    "simplify(u_final.diff(t) - alpha**2 * u_final.diff(x, 2))"
   ]
  },
  {
   "cell_type": "markdown",
   "id": "f794dc57",
   "metadata": {},
   "source": [
    "Podemos verificar las condiciones de frontera."
   ]
  },
  {
   "cell_type": "code",
   "execution_count": 15,
   "id": "12ec74df",
   "metadata": {},
   "outputs": [
    {
     "data": {
      "image/png": "[encoded data removed]",
      "text/latex": [
       "$\\displaystyle 0$"
      ],
      "text/plain": [
       "0"
      ]
     },
     "execution_count": 15,
     "metadata": {},
     "output_type": "execute_result"
    }
   ],
   "source": [
    "simplify(u_final.subs(x, 0))"
   ]
  },
  {
   "cell_type": "code",
   "execution_count": 16,
   "id": "78d355db",
   "metadata": {},
   "outputs": [
    {
     "data": {
      "image/png": "[encoded data removed]",
      "text/latex": [
       "$\\displaystyle 0$"
      ],
      "text/plain": [
       "0"
      ]
     },
     "execution_count": 16,
     "metadata": {},
     "output_type": "execute_result"
    }
   ],
   "source": [
    "simplify(u_final.subs(x, 1))"
   ]
  },
  {
   "cell_type": "markdown",
   "id": "d43e6fff",
   "metadata": {},
   "source": [
    "Y las condiciones iniciales."
   ]
  },
  {
   "cell_type": "code",
   "execution_count": 17,
   "id": "079f330b",
   "metadata": {},
   "outputs": [
    {
     "data": {
      "image/png": "[encoded data removed]",
      "text/latex": [
       "$\\displaystyle \\sum_{n=1}^{\\infty} \\frac{4 \\sin{\\left(\\frac{\\pi n}{2} \\right)} \\sin{\\left(\\pi n x \\right)}}{\\pi^{2} n^{2}}$"
      ],
      "text/plain": [
       "  ∞                        \n",
       "_____                      \n",
       "╲                          \n",
       " ╲         ⎛π⋅n⎞           \n",
       "  ╲   4⋅sin⎜───⎟⋅sin(π⋅n⋅x)\n",
       "   ╲       ⎝ 2 ⎠           \n",
       "   ╱  ─────────────────────\n",
       "  ╱            2  2        \n",
       " ╱            π ⋅n         \n",
       "╱                          \n",
       "‾‾‾‾‾                      \n",
       "n = 1                      "
      ]
     },
     "execution_count": 17,
     "metadata": {},
     "output_type": "execute_result"
    }
   ],
   "source": [
    "u_final.subs(t, 0)"
   ]
  },
  {
   "cell_type": "markdown",
   "id": "248f8454",
   "metadata": {},
   "source": [
    "## Referencias"
   ]
  },
  {
   "cell_type": "markdown",
   "id": "0ddd47e1",
   "metadata": {},
   "source": [
    "- Farlow, S. J. (1993). Partial differential equations for scientists and engineers. Courier Corporation.\n",
    "\n",
    "- Kreyszig, E. (2009). Advanced Engineering Mathematics 10th Edition."
   ]
  }
 ],
 "metadata": {
  "kernelspec": {
   "display_name": "Python 3 (ipykernel)",
   "language": "python",
   "name": "python3"
  },
  "language_info": {
   "codemirror_mode": {
    "name": "ipython",
    "version": 3
   },
   "file_extension": ".py",
   "mimetype": "text/x-python",
   "name": "python",
   "nbconvert_exporter": "python",
   "pygments_lexer": "ipython3",
   "version": "3.12.4"
  },
  "varInspector": {
   "cols": {
    "lenName": 16,
    "lenType": 16,
    "lenVar": 40
   },
   "kernels_config": {
    "python": {
     "delete_cmd_postfix": "",
     "delete_cmd_prefix": "del ",
     "library": "var_list.py",
     "varRefreshCmd": "print(var_dic_list())"
    },
    "r": {
     "delete_cmd_postfix": ") ",
     "delete_cmd_prefix": "rm(",
     "library": "var_list.r",
     "varRefreshCmd": "cat(var_dic_list()) "
    }
   },
   "types_to_exclude": [
    "module",
    "function",
    "builtin_function_or_method",
    "instance",
    "_Feature"
   ],
   "window_display": false
  }
 },
 "nbformat": 4,
 "nbformat_minor": 5
}
