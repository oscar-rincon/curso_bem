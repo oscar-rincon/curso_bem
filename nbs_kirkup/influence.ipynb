{
 "cells": [
  {
   "cell_type": "code",
   "execution_count": null,
   "id": "d88bf64c",
   "metadata": {},
   "outputs": [
    {
     "name": "stdout",
     "output_type": "stream",
     "text": [
      "Valor de la integral de H sobre el elemento: -1.5135570869966967e-05\n"
     ]
    }
   ],
   "source": [
    "import numpy as np\n",
    "from numpy import pi, log, exp\n",
    "\n",
    "# Parámetros\n",
    "k = 2 * pi  # número de onda\n",
    "x1, y1 = 0.0, 0.0  # coordenada nodo 1\n",
    "x2, y2 = 1.0, 0.0  # coordenada nodo 2\n",
    "x0, y0 = 0.5, 1e-6  # punto fuente ligeramente fuera del contorno\n",
    "\n",
    "# Vector tangente y longitud\n",
    "dx = x2 - x1\n",
    "dy = y2 - y1\n",
    "L = np.sqrt(dx**2 + dy**2)\n",
    "\n",
    "# Vector tangente unitario y normal\n",
    "tx, ty = dx / L, dy / L\n",
    "nx, ny = ty, -tx  # normal hacia afuera\n",
    "\n",
    "# Puntos de Gauss y pesos para 16 puntos\n",
    "gauss_points, weights = np.polynomial.legendre.leggauss(4)\n",
    "\n",
    "# Transformación a coordenadas del segmento\n",
    "s = 0.5 * (gauss_points + 1) * L\n",
    "w = 0.5 * L * weights\n",
    "\n",
    "# Inicializar H\n",
    "H = 0.0 + 0j\n",
    "\n",
    "# Constante para G y ∂G/∂n\n",
    "const = 1j / 4\n",
    "\n",
    "# Loop de integración numérica\n",
    "for si, wi in zip(s, w):\n",
    "    x = x1 + si * tx\n",
    "    y = y1 + si * ty\n",
    "\n",
    "    rx = x0 - x\n",
    "    ry = y0 - y\n",
    "    r = np.hypot(rx, ry)\n",
    "\n",
    "    # Función de Green 2D de Helmholtz\n",
    "    G = const * exp(1j * k * r) / r\n",
    "\n",
    "    # Derivada normal ∂G/∂n\n",
    "    dGdn = const * exp(1j * k * r) * (1j * k - 1/r) * (rx * nx + ry * ny) / r**2\n",
    "\n",
    "    H += dGdn * wi\n",
    "\n",
    "# Resultado\n",
    "print(\"Valor de la integral de H sobre el elemento:\", H.real)\n"
   ]
  }
 ],
 "metadata": {
  "kernelspec": {
   "display_name": "bem",
   "language": "python",
   "name": "python3"
  },
  "language_info": {
   "codemirror_mode": {
    "name": "ipython",
    "version": 3
   },
   "file_extension": ".py",
   "mimetype": "text/x-python",
   "name": "python",
   "nbconvert_exporter": "python",
   "pygments_lexer": "ipython3",
   "version": "3.13.2"
  }
 },
 "nbformat": 4,
 "nbformat_minor": 5
}
