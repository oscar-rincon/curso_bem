{
 "cells": [
  {
   "cell_type": "code",
   "execution_count": 30,
   "id": "efc0c863",
   "metadata": {},
   "outputs": [
    {
     "name": "stdout",
     "output_type": "stream",
     "text": [
      "The autoreload extension is already loaded. To reload it, use:\n",
      "  %reload_ext autoreload\n"
     ]
    }
   ],
   "source": [
    "from funciones_helmholtz_bem import Circle_n\n",
    "from funciones_helmholtz_bem import frequencyToWavenumber\n",
    "from funciones_helmholtz_bem import solveExteriorBoundary\n",
    "from funciones_helmholtz_bem import solveExterior\n",
    "from funciones_helmholtz_bem import phi_test_problem_1_2\n",
    "from funciones_helmholtz_bem import generateInteriorPoints_test_problem_2\n",
    "from funciones_helmholtz_bem import plot_solutions\n",
    "from funciones_helmholtz_bem import plot_edges_and_field\n",
    "from funciones_helmholtz_bem import generateInteriorPoints_excluding_circle\n",
    "from funciones_helmholtz_bem import sound_hard_circle_calc\n",
    "from funciones_helmholtz_bem import mask_displacement\n",
    "from funciones_helmholtz_bem import plot_exact_displacement\n",
    "from funciones_helmholtz_bem import plot_bem_displacements\n",
    "import numpy as np\n",
    "import time\n",
    "import matplotlib.pyplot as plt\n",
    "from scipy.interpolate import griddata\n",
    "from numpy.linalg import norm\n",
    "# reload kernel\n",
    "%load_ext autoreload\n",
    "%autoreload 2"
   ]
  },
  {
   "cell_type": "code",
   "execution_count": 102,
   "id": "01fb31e3",
   "metadata": {},
   "outputs": [],
   "source": [
    "# Simulación de dispersión por obstáculo circular rígido\n",
    "k = 3.0\n",
    "n = 45\n",
    "\n",
    "# Crear malla circular con centro en el origen\n",
    "aVertex, aElement = Circle_n(n=n, radius=np.pi/4)\n",
    "size = aElement.shape[0]\n",
    "\n",
    "# Condición Neumann homogénea: sound-hard obstacle\n",
    "alpha = np.full(size, 0.0, dtype=complex)\n",
    "beta  = np.full(size, 1.0, dtype=complex)\n",
    "f     = np.empty(size, dtype=complex)\n",
    "phi   = np.full(size, 0.0, dtype=complex)\n",
    "v     = np.full(size, 0.0, dtype=complex)\n",
    "\n",
    "# Centro de cada elemento\n",
    "aCenters = 0.5 * (aVertex[aElement[:, 0]] + aVertex[aElement[:, 1]])\n",
    "\n",
    "# Vectores tangentes y normales exteriores\n",
    "theta = np.atan2(aCenters[:, 1], aCenters[:, 0])\n",
    " \n",
    "# Evaluación de la onda incidente en los centros: φ_inc = exp(i k x)\n",
    "kx = k * aCenters[:, 0]  # x es la primera componente\n",
    "phi_inc = np.exp(1j * kx)\n",
    "\n",
    "# Derivada normal: dφ_inc/dn = i k * exp(i k x) * n_x\n",
    "f = np.cos(theta) * -1j * k * phi_inc #  n_x es la componente x de la normal\n",
    "\n",
    "\n",
    "# Generar puntos en el dominio rectangular excluyendo un círculo\n",
    "n_dom = 30\n",
    "points_outside, points_inside = generateInteriorPoints_excluding_circle(\n",
    "    Nx=n_dom, Ny=n_dom,\n",
    "    xmin=-np.pi, xmax=np.pi,\n",
    "    ymin=-np.pi, ymax=np.pi,\n",
    "    r_exclude=np.pi / 4\n",
    ")\n",
    "\n",
    "# Inicializar el potencial incidente en los puntos exteriores como cero\n",
    "interiorIncidentPhi = np.zeros(points_outside.shape[0], dtype=complex)\n",
    "\n",
    "c, density = None, None  # Se puede cambiar si se tienen valores iniciales"
   ]
  },
  {
   "cell_type": "code",
   "execution_count": 103,
   "id": "417516ef",
   "metadata": {},
   "outputs": [
    {
     "name": "stdout",
     "output_type": "stream",
     "text": [
      "Execution time: 0.346 seconds\n"
     ]
    }
   ],
   "source": [
    "# Start timer\n",
    "start_time = time.time()\n",
    "\n",
    "# Run the solver\n",
    "v, phi = solveExteriorBoundary(\n",
    "    k, alpha, beta, f, phi, v,\n",
    "    aVertex, aElement,\n",
    "    c, density,\n",
    "    'exterior'\n",
    ")\n",
    "\n",
    "# End timer\n",
    "end_time = time.time()\n",
    "\n",
    "# Calculate and print elapsed time in scientific format\n",
    "elapsed = end_time - start_time\n",
    "print(f\"Execution time: {elapsed:.3} seconds\")"
   ]
  },
  {
   "cell_type": "code",
   "execution_count": 104,
   "id": "17996120",
   "metadata": {},
   "outputs": [
    {
     "name": "stdout",
     "output_type": "stream",
     "text": [
      "Relative error: 1.792e-02\n"
     ]
    }
   ],
   "source": [
    " \n",
    "\n",
    "# Evaluar el potencial numérico en los puntos del dominio exterior\n",
    "interiorPhi = solveExterior(\n",
    "    k, v, phi,\n",
    "    interiorIncidentPhi,\n",
    "    points_outside,\n",
    "    aVertex, aElement,\n",
    "    'exterior'\n",
    ")\n",
    "\n",
    "r_i = np.pi/4 # Inner radius\n",
    "l_se = np.pi # Outer semi-length\n",
    "k = 3  # Wave number\n",
    "n_grid = 501 # Number of grid points in x and y \n",
    "\n",
    "# Create a grid of points in the domain\n",
    "Y, X = np.mgrid[-l_se:l_se:n_grid*1j, -l_se:l_se:n_grid*1j]\n",
    "\n",
    "\n",
    "# Interpolar datos en la grilla\n",
    "grid_z = griddata(points_outside, interiorPhi, (X, Y), method='cubic')\n",
    " \n",
    "r_exclude = np.pi / 4\n",
    "grid_z = np.ma.masked_where((X**2 + Y**2) < r_exclude, grid_z)\n",
    "\n",
    "u_scn_amp = grid_z.real\n",
    "u_scn_phase = grid_z.imag\n",
    "\n",
    "# Calculate the radial distance from the origin for each point in the grid\n",
    "R_exact = np.sqrt(X**2 + Y**2)\n",
    "\n",
    "# Calculate the displacement for a sound-hard circular obstacle\n",
    "# n_terms: number of terms in the series expansion\n",
    "u_inc_exact, u_scn_exact, u_exact = sound_hard_circle_calc(k, r_i, X, Y, n_terms=None)\n",
    "\n",
    "# Mask the displacement\n",
    "u_inc_exact = mask_displacement(R_exact, r_i, l_se, u_inc_exact)\n",
    "u_scn_exact = mask_displacement(R_exact, r_i, l_se, u_scn_exact)\n",
    "u_exact = mask_displacement(R_exact, r_i, l_se, u_exact)\n",
    "\n",
    "# Enmascar el potencial numérico en los puntos del dominio exterior\n",
    "R_grid = np.sqrt(X**2 + Y**2)\n",
    "# Crear una copia del arreglo original\n",
    "u_scn_exact_masked = np.copy(u_scn_exact)\n",
    "u_scn_amp_masked = np.copy(u_scn_amp)\n",
    "\n",
    "\n",
    "# Enmascarar los valores dentro del círculo de radio r_i\n",
    "u_scn_exact_masked[R_grid < r_i] = 0\n",
    "u_scn_amp_masked[R_grid < r_i] = 0\n",
    " \n",
    "# Calcular el error relativo entre el potencial numérico y el exacto\n",
    "relative_error = np.linalg.norm(u_scn_exact_masked.real - u_scn_amp_masked.real, 2)/np.linalg.norm(u_scn_exact_masked.real, 2)\n",
    "relative_error\n",
    "\n",
    "print(f\"Relative error: {relative_error:.3e}\")"
   ]
  },
  {
   "cell_type": "markdown",
   "id": "0bed6f93",
   "metadata": {},
   "source": [
    "| Experiment | Integration Points | Time (s) | Relative Error |\n",
    "|------------|--------------------|----------|----------------|\n",
    "| 1          | 5                  |  0.0078        |  7.359e-01              |\n",
    "| 2          | 10                 |  0.0194  | 1.480e-01       |\n",
    "| 3          | 15                 |  0.0410        | 7.301e-02               |\n",
    "| 4          | 20                 |  0.0684  | 4.633e-02       |\n",
    "| 5          | 25                 |    0.1079      |  3.341e-02              |\n",
    "| 6          | 30                 |  0.1510  | 2.597e-02       |\n",
    "| 7          | 35                 |  0.2040        |  2.597e-02              |\n",
    "| 8          | 40                 |  0.2700  | 1.904e-02       |\n",
    "| 9          | 45                 |  0.3460        | 1.792e-02               |\n",
    "| 10         | 50                 |  0.4260  | 1.699e-02       |\n",
    " "
   ]
  },
  {
   "cell_type": "markdown",
   "id": "0633fda0",
   "metadata": {},
   "source": [
    "| Experiment | Layers | Neurons/Layer | Time (s) | Relative Error |\n",
    "|------------|--------|----------------|----------|----------------|\n",
    "| 1          | 1      | 25             |   2.685808e+02       |  9.10e-01              |\n",
    "| 2          | 1      | 50             |   2.877863e+02       |  7.98e-01              |\n",
    "| 3          | 1      | 75             |   2.911042e+02       |  7.26e-01              |\n",
    "| 4          | 2      | 25             |  3.336271e+02        |  4.10e-01              |\n",
    "| 5          | 2      | 50             |  3.461852e+02        |    1.17e-01            |\n",
    "| 6          | 2      | 75             |  3.562399e+02       |    7.72e-02            |\n",
    "| 7          | 3      | 25             |   4.017561e+02       |  1.52e-01              |\n",
    "| 8          | 3      | 50             |   3.967530e+02       |   7.55e-02             |\n",
    "| 10          | 3      | 75             |   4.308179e+02       |   7.46e-02             |"
   ]
  },
  {
   "cell_type": "code",
   "execution_count": null,
   "id": "a4d8e970",
   "metadata": {},
   "outputs": [],
   "source": []
  },
  {
   "cell_type": "code",
   "execution_count": 4,
   "id": "245969ca",
   "metadata": {},
   "outputs": [
    {
     "data": {
      "image/png": "[encoded data removed]",
      "text/plain": [
       "<Figure size 500x250 with 1 Axes>"
      ]
     },
     "metadata": {},
     "output_type": "display_data"
    }
   ],
   "source": [
    "import matplotlib.pyplot as plt\n",
    "from matplotlib.ticker import LogLocator, FixedLocator, FixedFormatter\n",
    "\n",
    "# --- BEM data ---\n",
    "bem_rel_error = [7.359e-01, 1.480e-01, 7.301e-02, 4.633e-02, 3.341e-02,\n",
    "                 2.597e-02, 2.597e-02, 1.904e-02, 1.792e-02, 1.699e-02]\n",
    "bem_time = [0.0078, 0.0194, 0.0410, 0.0684, 0.1079, 0.1510, 0.2040, 0.2700, 0.3460, 0.4260]\n",
    "\n",
    "# --- PINN data ---\n",
    "pinn_rel_error = [9.10e-01, 7.98e-01, 7.26e-01, 4.10e-01, 1.17e-01,\n",
    "                  7.72e-02, 1.52e-01, 7.55e-02, 7.46e-02]\n",
    "pinn_time = [268.5808, 287.7863, 291.1042, 333.6271, 346.1852,\n",
    "             356.2399, 401.7561, 396.7530, 430.8179]\n",
    "\n",
    "# --- Plot ---\n",
    "plt.figure(figsize=(5.0, 2.5))\n",
    "\n",
    "# BEM curve\n",
    "plt.plot(bem_rel_error, bem_time, '-', color='#000071ff')\n",
    "plt.scatter(bem_rel_error, bem_time, color='#0000e5ff', edgecolors='black', zorder=5)\n",
    "\n",
    "# PINN curve\n",
    "plt.plot(pinn_rel_error, pinn_time, '-', color='#676767ff')\n",
    "plt.scatter(pinn_rel_error, pinn_time, color='#676767ff', edgecolors='black', zorder=5)\n",
    "\n",
    "# Axes labels\n",
    "plt.xlabel('Relative Error', fontsize=10)\n",
    "plt.ylabel('Time (s)', fontsize=10)\n",
    "\n",
    "# Log-log scale\n",
    "plt.xscale('log')\n",
    "plt.yscale('log')\n",
    "\n",
    "# Invert both axes\n",
    "ax = plt.gca()\n",
    "ax.invert_xaxis()\n",
    "ax.invert_yaxis()\n",
    "\n",
    "# Add custom ticks for x-axis to ensure 1e-2 is visible and labeled\n",
    "x_ticks = [1e-1, 1e-2]\n",
    "ax.set_xticks(x_ticks)\n",
    "ax.set_xticklabels([r'$10^{-1}$', r'$10^{-2}$'])\n",
    "\n",
    "# Keep log ticks on y-axis\n",
    "ax.yaxis.set_major_locator(LogLocator(base=10.0, subs=(1.0, 2.0, 5.0), numticks=10))\n",
    "\n",
    "# Save figure\n",
    "plt.tight_layout()\n",
    "plt.savefig(\"rel_error_time.svg\", dpi=150, bbox_inches='tight')\n",
    "plt.show()\n"
   ]
  }
 ],
 "metadata": {
  "kernelspec": {
   "display_name": "bem",
   "language": "python",
   "name": "python3"
  },
  "language_info": {
   "codemirror_mode": {
    "name": "ipython",
    "version": 3
   },
   "file_extension": ".py",
   "mimetype": "text/x-python",
   "name": "python",
   "nbconvert_exporter": "python",
   "pygments_lexer": "ipython3",
   "version": "3.13.2"
  }
 },
 "nbformat": 4,
 "nbformat_minor": 5
}
