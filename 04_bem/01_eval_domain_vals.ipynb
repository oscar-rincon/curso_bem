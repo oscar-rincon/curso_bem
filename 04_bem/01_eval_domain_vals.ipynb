{
 "cells": [
  {
   "cell_type": "markdown",
   "metadata": {},
   "source": [
    "# Evaluation of a solution inside the domain"
   ]
  },
  {
   "cell_type": "markdown",
   "metadata": {},
   "source": [
    "Let us consider the following problem\n",
    "\n",
    "\\begin{align}\n",
    "\\nabla^2 u(x) = 0 \\quad \\forall x \\in \\Omega\\\\\n",
    "u(x) = g(x)\\quad \\forall x \\in \\Gamma_1\\\\\n",
    "\\frac{\\partial u(x)}{\\partial \\hat{\\mathbf{n}}} = h(x)\\quad \\forall x \\in \\Gamma_2\\\\\n",
    "\\end{align}\n",
    "\n",
    "In the case of the Boundary Element Method, we first compute the function $u$ and\n",
    "its associated flux $\\partial u/\\partial \\hat{\\mathbf{n}}$ in the boundary. Then,\n",
    "we can use the values in the boundary to find the solution inside the domain in\n",
    "any collection of points that we see fit."
   ]
  },
  {
   "cell_type": "markdown",
   "metadata": {},
   "source": [
    "## Auxiliar functions"
   ]
  },
  {
   "cell_type": "code",
   "execution_count": 1,
   "metadata": {},
   "outputs": [],
   "source": [
    "%matplotlib widget"
   ]
  },
  {
   "cell_type": "code",
   "execution_count": 2,
   "metadata": {},
   "outputs": [],
   "source": [
    "import numpy as np\n",
    "from numpy import log, arctan2, pi, mean\n",
    "from numpy.linalg import norm, solve\n",
    "import matplotlib.pyplot as plt\n",
    "import meshio"
   ]
  },
  {
   "cell_type": "code",
   "execution_count": 3,
   "metadata": {},
   "outputs": [],
   "source": [
    "try:\n",
    "    repo = \"https://raw.githubusercontent.com/nicoguaro/matplotlib_styles/master\"\n",
    "    style = repo + \"/styles/clean.mplstyle\"\n",
    "    plt.style.use(style)\n",
    "except:\n",
    "    pass"
   ]
  },
  {
   "cell_type": "markdown",
   "metadata": {},
   "source": [
    "The influence coefficients are computed analytically\n",
    "as"
   ]
  },
  {
   "cell_type": "code",
   "execution_count": 4,
   "metadata": {},
   "outputs": [],
   "source": [
    "def influence_coeff(elem, coords, pt_col):\n",
    "    \"\"\"Compute influence coefficients\n",
    "\n",
    "    Parameters\n",
    "    ----------\n",
    "    elems : ndarray, int\n",
    "        Connectivity for the elements.\n",
    "    coords : ndarray, float\n",
    "        Coordinates for the nodes.\n",
    "    pt_col : ndarray\n",
    "        Coordinates of the colocation point.\n",
    "\n",
    "    Returns\n",
    "    -------\n",
    "    G_coeff : float\n",
    "        Influence coefficient for flows.\n",
    "    H_coeff : float\n",
    "        Influence coefficient for primary variable.\n",
    "    \"\"\"\n",
    "    dcos = coords[elem[1]] - coords[elem[0]]\n",
    "    dcos = dcos / norm(dcos)\n",
    "    rotmat = np.array([[dcos[1], -dcos[0]],\n",
    "                       [dcos[0], dcos[1]]])\n",
    "    r_A = rotmat.dot(coords[elem[0]] - pt_col)\n",
    "    r_B = rotmat.dot(coords[elem[1]] - pt_col)\n",
    "    theta_A = arctan2(r_A[1], r_A[0])\n",
    "    theta_B = arctan2(r_B[1], r_B[0])\n",
    "    if norm(r_A) <= 1e-6:\n",
    "        G_coeff = r_B[1]*(log(norm(r_B)) - 1) + theta_B*r_B[0]\n",
    "    elif norm(r_B) <= 1e-6:\n",
    "        G_coeff = -(r_A[1]*(log(norm(r_A)) - 1) + theta_A*r_A[0])\n",
    "    else:\n",
    "        G_coeff = r_B[1]*(log(norm(r_B)) - 1) + theta_B*r_B[0] -\\\n",
    "                  (r_A[1]*(log(norm(r_A)) - 1) + theta_A*r_A[0])\n",
    "    H_coeff = theta_B - theta_A\n",
    "    return -G_coeff/(2*pi), H_coeff/(2*pi)"
   ]
  },
  {
   "cell_type": "markdown",
   "metadata": {},
   "source": [
    "The following function evaluate the solution\n",
    "to the nodes in the 2D mesh."
   ]
  },
  {
   "cell_type": "code",
   "execution_count": 5,
   "metadata": {},
   "outputs": [],
   "source": [
    "def eval_sol(ev_coords, coords, elems, u_boundary, q_boundary):\n",
    "    \"\"\"Evaluate the solution in a set of points\n",
    "\n",
    "    Parameters\n",
    "    ----------\n",
    "    ev_coords : ndarray, float\n",
    "        Coordinates of the evaluation points.\n",
    "    coords : ndarray, float\n",
    "        Coordinates for the nodes.\n",
    "    elems : ndarray, int\n",
    "        Connectivity for the elements.\n",
    "    u_boundary : ndarray, float\n",
    "        Primary variable in the nodes.\n",
    "    q_boundary : [type]\n",
    "        Flows in the nodes.\n",
    "\n",
    "    Returns\n",
    "    -------\n",
    "    solution : ndarray, float\n",
    "        Solution evaluated in the given points.\n",
    "    \"\"\"\n",
    "    npts = ev_coords.shape[0]\n",
    "    solution = np.zeros(npts)\n",
    "    for k in range(npts):\n",
    "        for ev_cont, elem in enumerate(elems):        \n",
    "            pt_col = ev_coords[k]\n",
    "            G, H = influence_coeff(elem, coords, pt_col)\n",
    "            solution[k] += u_boundary[ev_cont]*H - q_boundary[ev_cont]*G\n",
    "    return solution"
   ]
  },
  {
   "cell_type": "markdown",
   "metadata": {},
   "source": [
    "## Example"
   ]
  },
  {
   "cell_type": "markdown",
   "metadata": {},
   "source": [
    "Let us consider the function\n",
    "\n",
    "$$u(r, \\theta) = 3 r^6\\cos(6\\theta)\\, ,$$\n",
    "\n",
    "over the unit disk.\n",
    "\n",
    "Its normal derivative in the boundary is\n",
    "\n",
    "$$q \\equiv \\left.\\frac{\\partial u(\\theta)}{\\partial r}\\right\\vert_{r=1} = -18 \\cos(6\\theta)\\, .$$"
   ]
  },
  {
   "cell_type": "markdown",
   "metadata": {},
   "source": [
    "We have a mesh with physical groups assigned to the boundary and the whole\n",
    "surface.\n",
    "\n",
    "The boundary correspond to the first 4 cells, as we can see following."
   ]
  },
  {
   "cell_type": "code",
   "execution_count": 6,
   "metadata": {},
   "outputs": [
    {
     "name": "stdout",
     "output_type": "stream",
     "text": [
      "\n"
     ]
    },
    {
     "data": {
      "text/plain": [
       "[<meshio CellBlock, type: line, num cells: 50, tags: []>,\n",
       " <meshio CellBlock, type: line, num cells: 50, tags: []>,\n",
       " <meshio CellBlock, type: line, num cells: 50, tags: []>,\n",
       " <meshio CellBlock, type: line, num cells: 50, tags: []>,\n",
       " <meshio CellBlock, type: triangle, num cells: 5000, tags: []>]"
      ]
     },
     "execution_count": 6,
     "metadata": {},
     "output_type": "execute_result"
    }
   ],
   "source": [
    "mesh = meshio.read(\"files/disk.msh\")\n",
    "mesh.cells"
   ]
  },
  {
   "cell_type": "code",
   "execution_count": 7,
   "metadata": {},
   "outputs": [],
   "source": [
    "elems = np.vstack([cells.data for cells in mesh.cells[0:4]])\n",
    "bound_nodes = list(set(elems.flatten()))\n",
    "coords = mesh.points[bound_nodes, :2]\n",
    "x, y = coords.T\n",
    "tris = mesh.cells[4].data"
   ]
  },
  {
   "cell_type": "markdown",
   "metadata": {},
   "source": [
    "We can define the evaluation/colocation points in our mesh as the\n",
    "midpoints of the elements. We obtain them as the average between\n",
    "their vertices."
   ]
  },
  {
   "cell_type": "code",
   "execution_count": 8,
   "metadata": {},
   "outputs": [],
   "source": [
    "x_m, y_m = 0.5*(coords[elems[:, 0]] + coords[elems[:, 1]]).T\n",
    "theta = np.arctan2(y_m, x_m)"
   ]
  },
  {
   "cell_type": "code",
   "execution_count": 9,
   "metadata": {},
   "outputs": [],
   "source": [
    "u_boundary = 3*np.cos(6*theta)\n",
    "q_boundary = -18*np.cos(6*theta)"
   ]
  },
  {
   "cell_type": "code",
   "execution_count": null,
   "metadata": {},
   "outputs": [],
   "source": [
    "ev_coords =  mesh.points[:, :2]\n",
    "ev_x, ev_y = ev_coords.T\n",
    "solution = eval_sol(ev_coords, coords, elems, u_boundary, q_boundary)"
   ]
  },
  {
   "cell_type": "markdown",
   "metadata": {},
   "source": [
    "### Visualization"
   ]
  },
  {
   "cell_type": "code",
   "execution_count": null,
   "metadata": {},
   "outputs": [],
   "source": [
    "fig = plt.figure()\n",
    "ax = fig.add_subplot(111, projection='3d')\n",
    "ax.plot_trisurf(ev_x, ev_y, solution, cmap=\"RdBu\", lw=0.1,\n",
    "                edgecolor=\"#3c3c3c\");"
   ]
  },
  {
   "cell_type": "markdown",
   "metadata": {},
   "source": [
    "### Comparison with the analytical solution"
   ]
  },
  {
   "cell_type": "code",
   "execution_count": null,
   "metadata": {},
   "outputs": [],
   "source": [
    "ev_t = np.arctan2(ev_y, ev_x)\n",
    "ev_r = np.sqrt(ev_x**2 + ev_y**2)\n",
    "sol_fun = lambda r, t: 3*r**6*np.cos(6*t)"
   ]
  },
  {
   "cell_type": "code",
   "execution_count": null,
   "metadata": {},
   "outputs": [],
   "source": [
    "sol_analytic = sol_fun(ev_r, ev_t)"
   ]
  },
  {
   "cell_type": "code",
   "execution_count": null,
   "metadata": {},
   "outputs": [],
   "source": [
    "fig = plt.figure()\n",
    "ax = fig.add_subplot(111, projection='3d')\n",
    "ax.plot_trisurf(ev_x, ev_y, sol_analytic, cmap=\"RdBu\", lw=0.1,\n",
    "                edgecolor=\"#3c3c3c\");"
   ]
  },
  {
   "cell_type": "code",
   "execution_count": null,
   "metadata": {},
   "outputs": [],
   "source": [
    "fig = plt.figure()\n",
    "plt.tricontourf(ev_x, ev_y, sol_analytic - solution,\n",
    "                18, cmap=\"RdBu\", zorder=4)\n",
    "plt.colorbar()\n",
    "plt.axis(\"image\")\n",
    "plt.axis(\"off\");"
   ]
  },
  {
   "cell_type": "code",
   "execution_count": null,
   "metadata": {},
   "outputs": [],
   "source": [
    "rel_error = 100*np.linalg.norm(sol_analytic - solution)/np.linalg.norm(sol_analytic)\n",
    "print(f\"The relative error is {rel_error:.2f}%\")"
   ]
  },
  {
   "cell_type": "code",
   "execution_count": null,
   "metadata": {},
   "outputs": [],
   "source": []
  }
 ],
 "metadata": {
  "kernelspec": {
   "display_name": "Python 3 (ipykernel)",
   "language": "python",
   "name": "python3"
  },
  "language_info": {
   "codemirror_mode": {
    "name": "ipython",
    "version": 3
   },
   "file_extension": ".py",
   "mimetype": "text/x-python",
   "name": "python",
   "nbconvert_exporter": "python",
   "pygments_lexer": "ipython3",
   "version": "3.12.4"
  },
  "varInspector": {
   "cols": {
    "lenName": 16,
    "lenType": 16,
    "lenVar": 40
   },
   "kernels_config": {
    "python": {
     "delete_cmd_postfix": "",
     "delete_cmd_prefix": "del ",
     "library": "var_list.py",
     "varRefreshCmd": "print(var_dic_list())"
    },
    "r": {
     "delete_cmd_postfix": ") ",
     "delete_cmd_prefix": "rm(",
     "library": "var_list.r",
     "varRefreshCmd": "cat(var_dic_list()) "
    }
   },
   "types_to_exclude": [
    "module",
    "function",
    "builtin_function_or_method",
    "instance",
    "_Feature"
   ],
   "window_display": false
  }
 },
 "nbformat": 4,
 "nbformat_minor": 4
}
